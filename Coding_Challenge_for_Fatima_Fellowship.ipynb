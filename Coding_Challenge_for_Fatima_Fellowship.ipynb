{
  "nbformat": 4,
  "nbformat_minor": 0,
  "metadata": {
    "colab": {
      "name": "Coding Challenge for Fatima Fellowship",
      "provenance": [],
      "collapsed_sections": []
    },
    "kernelspec": {
      "name": "python3",
      "display_name": "Python 3"
    },
    "widgets": {
      "application/vnd.jupyter.widget-state+json": {
        "ed9ba56394d9402a9d89a122e0d5dabb": {
          "model_module": "@jupyter-widgets/controls",
          "model_name": "HBoxModel",
          "model_module_version": "1.5.0",
          "state": {
            "_dom_classes": [],
            "_model_module": "@jupyter-widgets/controls",
            "_model_module_version": "1.5.0",
            "_model_name": "HBoxModel",
            "_view_count": null,
            "_view_module": "@jupyter-widgets/controls",
            "_view_module_version": "1.5.0",
            "_view_name": "HBoxView",
            "box_style": "",
            "children": [
              "IPY_MODEL_8674edd280994ceeaea9cb21169f5d76",
              "IPY_MODEL_a4246c1308aa4639932165f9157a84b8",
              "IPY_MODEL_9ec174568d3144f39ec4b0a2594ff016"
            ],
            "layout": "IPY_MODEL_da903d5fe20146b1b432c63ea1e0182c"
          }
        },
        "8674edd280994ceeaea9cb21169f5d76": {
          "model_module": "@jupyter-widgets/controls",
          "model_name": "HTMLModel",
          "model_module_version": "1.5.0",
          "state": {
            "_dom_classes": [],
            "_model_module": "@jupyter-widgets/controls",
            "_model_module_version": "1.5.0",
            "_model_name": "HTMLModel",
            "_view_count": null,
            "_view_module": "@jupyter-widgets/controls",
            "_view_module_version": "1.5.0",
            "_view_name": "HTMLView",
            "description": "",
            "description_tooltip": null,
            "layout": "IPY_MODEL_4dd852f57e5841b3936ab20bd6bc9dbf",
            "placeholder": "​",
            "style": "IPY_MODEL_71665868326b4312b28f7da308fbb5fe",
            "value": "Downloading builder script: "
          }
        },
        "a4246c1308aa4639932165f9157a84b8": {
          "model_module": "@jupyter-widgets/controls",
          "model_name": "FloatProgressModel",
          "model_module_version": "1.5.0",
          "state": {
            "_dom_classes": [],
            "_model_module": "@jupyter-widgets/controls",
            "_model_module_version": "1.5.0",
            "_model_name": "FloatProgressModel",
            "_view_count": null,
            "_view_module": "@jupyter-widgets/controls",
            "_view_module_version": "1.5.0",
            "_view_name": "ProgressView",
            "bar_style": "success",
            "description": "",
            "description_tooltip": null,
            "layout": "IPY_MODEL_e69e2b3bca96487ab2e0804782008859",
            "max": 2194,
            "min": 0,
            "orientation": "horizontal",
            "style": "IPY_MODEL_963e3fe081114bc687dab930febd1806",
            "value": 2194
          }
        },
        "9ec174568d3144f39ec4b0a2594ff016": {
          "model_module": "@jupyter-widgets/controls",
          "model_name": "HTMLModel",
          "model_module_version": "1.5.0",
          "state": {
            "_dom_classes": [],
            "_model_module": "@jupyter-widgets/controls",
            "_model_module_version": "1.5.0",
            "_model_name": "HTMLModel",
            "_view_count": null,
            "_view_module": "@jupyter-widgets/controls",
            "_view_module_version": "1.5.0",
            "_view_name": "HTMLView",
            "description": "",
            "description_tooltip": null,
            "layout": "IPY_MODEL_4e18cfd237f04929ac9c75f3d5502fdc",
            "placeholder": "​",
            "style": "IPY_MODEL_ecb65eb9133e41b5adb5a23a01d50839",
            "value": " 5.61k/? [00:00&lt;00:00, 112kB/s]"
          }
        },
        "da903d5fe20146b1b432c63ea1e0182c": {
          "model_module": "@jupyter-widgets/base",
          "model_name": "LayoutModel",
          "model_module_version": "1.2.0",
          "state": {
            "_model_module": "@jupyter-widgets/base",
            "_model_module_version": "1.2.0",
            "_model_name": "LayoutModel",
            "_view_count": null,
            "_view_module": "@jupyter-widgets/base",
            "_view_module_version": "1.2.0",
            "_view_name": "LayoutView",
            "align_content": null,
            "align_items": null,
            "align_self": null,
            "border": null,
            "bottom": null,
            "display": null,
            "flex": null,
            "flex_flow": null,
            "grid_area": null,
            "grid_auto_columns": null,
            "grid_auto_flow": null,
            "grid_auto_rows": null,
            "grid_column": null,
            "grid_gap": null,
            "grid_row": null,
            "grid_template_areas": null,
            "grid_template_columns": null,
            "grid_template_rows": null,
            "height": null,
            "justify_content": null,
            "justify_items": null,
            "left": null,
            "margin": null,
            "max_height": null,
            "max_width": null,
            "min_height": null,
            "min_width": null,
            "object_fit": null,
            "object_position": null,
            "order": null,
            "overflow": null,
            "overflow_x": null,
            "overflow_y": null,
            "padding": null,
            "right": null,
            "top": null,
            "visibility": null,
            "width": null
          }
        },
        "4dd852f57e5841b3936ab20bd6bc9dbf": {
          "model_module": "@jupyter-widgets/base",
          "model_name": "LayoutModel",
          "model_module_version": "1.2.0",
          "state": {
            "_model_module": "@jupyter-widgets/base",
            "_model_module_version": "1.2.0",
            "_model_name": "LayoutModel",
            "_view_count": null,
            "_view_module": "@jupyter-widgets/base",
            "_view_module_version": "1.2.0",
            "_view_name": "LayoutView",
            "align_content": null,
            "align_items": null,
            "align_self": null,
            "border": null,
            "bottom": null,
            "display": null,
            "flex": null,
            "flex_flow": null,
            "grid_area": null,
            "grid_auto_columns": null,
            "grid_auto_flow": null,
            "grid_auto_rows": null,
            "grid_column": null,
            "grid_gap": null,
            "grid_row": null,
            "grid_template_areas": null,
            "grid_template_columns": null,
            "grid_template_rows": null,
            "height": null,
            "justify_content": null,
            "justify_items": null,
            "left": null,
            "margin": null,
            "max_height": null,
            "max_width": null,
            "min_height": null,
            "min_width": null,
            "object_fit": null,
            "object_position": null,
            "order": null,
            "overflow": null,
            "overflow_x": null,
            "overflow_y": null,
            "padding": null,
            "right": null,
            "top": null,
            "visibility": null,
            "width": null
          }
        },
        "71665868326b4312b28f7da308fbb5fe": {
          "model_module": "@jupyter-widgets/controls",
          "model_name": "DescriptionStyleModel",
          "model_module_version": "1.5.0",
          "state": {
            "_model_module": "@jupyter-widgets/controls",
            "_model_module_version": "1.5.0",
            "_model_name": "DescriptionStyleModel",
            "_view_count": null,
            "_view_module": "@jupyter-widgets/base",
            "_view_module_version": "1.2.0",
            "_view_name": "StyleView",
            "description_width": ""
          }
        },
        "e69e2b3bca96487ab2e0804782008859": {
          "model_module": "@jupyter-widgets/base",
          "model_name": "LayoutModel",
          "model_module_version": "1.2.0",
          "state": {
            "_model_module": "@jupyter-widgets/base",
            "_model_module_version": "1.2.0",
            "_model_name": "LayoutModel",
            "_view_count": null,
            "_view_module": "@jupyter-widgets/base",
            "_view_module_version": "1.2.0",
            "_view_name": "LayoutView",
            "align_content": null,
            "align_items": null,
            "align_self": null,
            "border": null,
            "bottom": null,
            "display": null,
            "flex": null,
            "flex_flow": null,
            "grid_area": null,
            "grid_auto_columns": null,
            "grid_auto_flow": null,
            "grid_auto_rows": null,
            "grid_column": null,
            "grid_gap": null,
            "grid_row": null,
            "grid_template_areas": null,
            "grid_template_columns": null,
            "grid_template_rows": null,
            "height": null,
            "justify_content": null,
            "justify_items": null,
            "left": null,
            "margin": null,
            "max_height": null,
            "max_width": null,
            "min_height": null,
            "min_width": null,
            "object_fit": null,
            "object_position": null,
            "order": null,
            "overflow": null,
            "overflow_x": null,
            "overflow_y": null,
            "padding": null,
            "right": null,
            "top": null,
            "visibility": null,
            "width": null
          }
        },
        "963e3fe081114bc687dab930febd1806": {
          "model_module": "@jupyter-widgets/controls",
          "model_name": "ProgressStyleModel",
          "model_module_version": "1.5.0",
          "state": {
            "_model_module": "@jupyter-widgets/controls",
            "_model_module_version": "1.5.0",
            "_model_name": "ProgressStyleModel",
            "_view_count": null,
            "_view_module": "@jupyter-widgets/base",
            "_view_module_version": "1.2.0",
            "_view_name": "StyleView",
            "bar_color": null,
            "description_width": ""
          }
        },
        "4e18cfd237f04929ac9c75f3d5502fdc": {
          "model_module": "@jupyter-widgets/base",
          "model_name": "LayoutModel",
          "model_module_version": "1.2.0",
          "state": {
            "_model_module": "@jupyter-widgets/base",
            "_model_module_version": "1.2.0",
            "_model_name": "LayoutModel",
            "_view_count": null,
            "_view_module": "@jupyter-widgets/base",
            "_view_module_version": "1.2.0",
            "_view_name": "LayoutView",
            "align_content": null,
            "align_items": null,
            "align_self": null,
            "border": null,
            "bottom": null,
            "display": null,
            "flex": null,
            "flex_flow": null,
            "grid_area": null,
            "grid_auto_columns": null,
            "grid_auto_flow": null,
            "grid_auto_rows": null,
            "grid_column": null,
            "grid_gap": null,
            "grid_row": null,
            "grid_template_areas": null,
            "grid_template_columns": null,
            "grid_template_rows": null,
            "height": null,
            "justify_content": null,
            "justify_items": null,
            "left": null,
            "margin": null,
            "max_height": null,
            "max_width": null,
            "min_height": null,
            "min_width": null,
            "object_fit": null,
            "object_position": null,
            "order": null,
            "overflow": null,
            "overflow_x": null,
            "overflow_y": null,
            "padding": null,
            "right": null,
            "top": null,
            "visibility": null,
            "width": null
          }
        },
        "ecb65eb9133e41b5adb5a23a01d50839": {
          "model_module": "@jupyter-widgets/controls",
          "model_name": "DescriptionStyleModel",
          "model_module_version": "1.5.0",
          "state": {
            "_model_module": "@jupyter-widgets/controls",
            "_model_module_version": "1.5.0",
            "_model_name": "DescriptionStyleModel",
            "_view_count": null,
            "_view_module": "@jupyter-widgets/base",
            "_view_module_version": "1.2.0",
            "_view_name": "StyleView",
            "description_width": ""
          }
        },
        "5cd206c754c840f881af962288d8d355": {
          "model_module": "@jupyter-widgets/controls",
          "model_name": "HBoxModel",
          "model_module_version": "1.5.0",
          "state": {
            "_dom_classes": [],
            "_model_module": "@jupyter-widgets/controls",
            "_model_module_version": "1.5.0",
            "_model_name": "HBoxModel",
            "_view_count": null,
            "_view_module": "@jupyter-widgets/controls",
            "_view_module_version": "1.5.0",
            "_view_name": "HBoxView",
            "box_style": "",
            "children": [
              "IPY_MODEL_bbdebccfd9b34fdea313989e8928b812",
              "IPY_MODEL_8e04b9d704764dcab06c0cfd6ec51927",
              "IPY_MODEL_3df100777b7e4b17b9490c581efa33ef"
            ],
            "layout": "IPY_MODEL_9cc868fc6e7d4e1aba27b2285de86f31"
          }
        },
        "bbdebccfd9b34fdea313989e8928b812": {
          "model_module": "@jupyter-widgets/controls",
          "model_name": "HTMLModel",
          "model_module_version": "1.5.0",
          "state": {
            "_dom_classes": [],
            "_model_module": "@jupyter-widgets/controls",
            "_model_module_version": "1.5.0",
            "_model_name": "HTMLModel",
            "_view_count": null,
            "_view_module": "@jupyter-widgets/controls",
            "_view_module_version": "1.5.0",
            "_view_name": "HTMLView",
            "description": "",
            "description_tooltip": null,
            "layout": "IPY_MODEL_46175f5dab7a4d6aadedf9da4e330300",
            "placeholder": "​",
            "style": "IPY_MODEL_3fd7e0ef8775470f81e71b19d7ac41a8",
            "value": "Downloading metadata: "
          }
        },
        "8e04b9d704764dcab06c0cfd6ec51927": {
          "model_module": "@jupyter-widgets/controls",
          "model_name": "FloatProgressModel",
          "model_module_version": "1.5.0",
          "state": {
            "_dom_classes": [],
            "_model_module": "@jupyter-widgets/controls",
            "_model_module_version": "1.5.0",
            "_model_name": "FloatProgressModel",
            "_view_count": null,
            "_view_module": "@jupyter-widgets/controls",
            "_view_module_version": "1.5.0",
            "_view_name": "ProgressView",
            "bar_style": "success",
            "description": "",
            "description_tooltip": null,
            "layout": "IPY_MODEL_367d443959c541beae9169e5af7d3f14",
            "max": 1436,
            "min": 0,
            "orientation": "horizontal",
            "style": "IPY_MODEL_bc765e4685544ddbac708f06f44461cb",
            "value": 1436
          }
        },
        "3df100777b7e4b17b9490c581efa33ef": {
          "model_module": "@jupyter-widgets/controls",
          "model_name": "HTMLModel",
          "model_module_version": "1.5.0",
          "state": {
            "_dom_classes": [],
            "_model_module": "@jupyter-widgets/controls",
            "_model_module_version": "1.5.0",
            "_model_name": "HTMLModel",
            "_view_count": null,
            "_view_module": "@jupyter-widgets/controls",
            "_view_module_version": "1.5.0",
            "_view_name": "HTMLView",
            "description": "",
            "description_tooltip": null,
            "layout": "IPY_MODEL_0beef7380b844c7da7290868b8bc72e1",
            "placeholder": "​",
            "style": "IPY_MODEL_4bbd52e835e44f99bd2804889545c5ad",
            "value": " 4.21k/? [00:00&lt;00:00, 110kB/s]"
          }
        },
        "9cc868fc6e7d4e1aba27b2285de86f31": {
          "model_module": "@jupyter-widgets/base",
          "model_name": "LayoutModel",
          "model_module_version": "1.2.0",
          "state": {
            "_model_module": "@jupyter-widgets/base",
            "_model_module_version": "1.2.0",
            "_model_name": "LayoutModel",
            "_view_count": null,
            "_view_module": "@jupyter-widgets/base",
            "_view_module_version": "1.2.0",
            "_view_name": "LayoutView",
            "align_content": null,
            "align_items": null,
            "align_self": null,
            "border": null,
            "bottom": null,
            "display": null,
            "flex": null,
            "flex_flow": null,
            "grid_area": null,
            "grid_auto_columns": null,
            "grid_auto_flow": null,
            "grid_auto_rows": null,
            "grid_column": null,
            "grid_gap": null,
            "grid_row": null,
            "grid_template_areas": null,
            "grid_template_columns": null,
            "grid_template_rows": null,
            "height": null,
            "justify_content": null,
            "justify_items": null,
            "left": null,
            "margin": null,
            "max_height": null,
            "max_width": null,
            "min_height": null,
            "min_width": null,
            "object_fit": null,
            "object_position": null,
            "order": null,
            "overflow": null,
            "overflow_x": null,
            "overflow_y": null,
            "padding": null,
            "right": null,
            "top": null,
            "visibility": null,
            "width": null
          }
        },
        "46175f5dab7a4d6aadedf9da4e330300": {
          "model_module": "@jupyter-widgets/base",
          "model_name": "LayoutModel",
          "model_module_version": "1.2.0",
          "state": {
            "_model_module": "@jupyter-widgets/base",
            "_model_module_version": "1.2.0",
            "_model_name": "LayoutModel",
            "_view_count": null,
            "_view_module": "@jupyter-widgets/base",
            "_view_module_version": "1.2.0",
            "_view_name": "LayoutView",
            "align_content": null,
            "align_items": null,
            "align_self": null,
            "border": null,
            "bottom": null,
            "display": null,
            "flex": null,
            "flex_flow": null,
            "grid_area": null,
            "grid_auto_columns": null,
            "grid_auto_flow": null,
            "grid_auto_rows": null,
            "grid_column": null,
            "grid_gap": null,
            "grid_row": null,
            "grid_template_areas": null,
            "grid_template_columns": null,
            "grid_template_rows": null,
            "height": null,
            "justify_content": null,
            "justify_items": null,
            "left": null,
            "margin": null,
            "max_height": null,
            "max_width": null,
            "min_height": null,
            "min_width": null,
            "object_fit": null,
            "object_position": null,
            "order": null,
            "overflow": null,
            "overflow_x": null,
            "overflow_y": null,
            "padding": null,
            "right": null,
            "top": null,
            "visibility": null,
            "width": null
          }
        },
        "3fd7e0ef8775470f81e71b19d7ac41a8": {
          "model_module": "@jupyter-widgets/controls",
          "model_name": "DescriptionStyleModel",
          "model_module_version": "1.5.0",
          "state": {
            "_model_module": "@jupyter-widgets/controls",
            "_model_module_version": "1.5.0",
            "_model_name": "DescriptionStyleModel",
            "_view_count": null,
            "_view_module": "@jupyter-widgets/base",
            "_view_module_version": "1.2.0",
            "_view_name": "StyleView",
            "description_width": ""
          }
        },
        "367d443959c541beae9169e5af7d3f14": {
          "model_module": "@jupyter-widgets/base",
          "model_name": "LayoutModel",
          "model_module_version": "1.2.0",
          "state": {
            "_model_module": "@jupyter-widgets/base",
            "_model_module_version": "1.2.0",
            "_model_name": "LayoutModel",
            "_view_count": null,
            "_view_module": "@jupyter-widgets/base",
            "_view_module_version": "1.2.0",
            "_view_name": "LayoutView",
            "align_content": null,
            "align_items": null,
            "align_self": null,
            "border": null,
            "bottom": null,
            "display": null,
            "flex": null,
            "flex_flow": null,
            "grid_area": null,
            "grid_auto_columns": null,
            "grid_auto_flow": null,
            "grid_auto_rows": null,
            "grid_column": null,
            "grid_gap": null,
            "grid_row": null,
            "grid_template_areas": null,
            "grid_template_columns": null,
            "grid_template_rows": null,
            "height": null,
            "justify_content": null,
            "justify_items": null,
            "left": null,
            "margin": null,
            "max_height": null,
            "max_width": null,
            "min_height": null,
            "min_width": null,
            "object_fit": null,
            "object_position": null,
            "order": null,
            "overflow": null,
            "overflow_x": null,
            "overflow_y": null,
            "padding": null,
            "right": null,
            "top": null,
            "visibility": null,
            "width": null
          }
        },
        "bc765e4685544ddbac708f06f44461cb": {
          "model_module": "@jupyter-widgets/controls",
          "model_name": "ProgressStyleModel",
          "model_module_version": "1.5.0",
          "state": {
            "_model_module": "@jupyter-widgets/controls",
            "_model_module_version": "1.5.0",
            "_model_name": "ProgressStyleModel",
            "_view_count": null,
            "_view_module": "@jupyter-widgets/base",
            "_view_module_version": "1.2.0",
            "_view_name": "StyleView",
            "bar_color": null,
            "description_width": ""
          }
        },
        "0beef7380b844c7da7290868b8bc72e1": {
          "model_module": "@jupyter-widgets/base",
          "model_name": "LayoutModel",
          "model_module_version": "1.2.0",
          "state": {
            "_model_module": "@jupyter-widgets/base",
            "_model_module_version": "1.2.0",
            "_model_name": "LayoutModel",
            "_view_count": null,
            "_view_module": "@jupyter-widgets/base",
            "_view_module_version": "1.2.0",
            "_view_name": "LayoutView",
            "align_content": null,
            "align_items": null,
            "align_self": null,
            "border": null,
            "bottom": null,
            "display": null,
            "flex": null,
            "flex_flow": null,
            "grid_area": null,
            "grid_auto_columns": null,
            "grid_auto_flow": null,
            "grid_auto_rows": null,
            "grid_column": null,
            "grid_gap": null,
            "grid_row": null,
            "grid_template_areas": null,
            "grid_template_columns": null,
            "grid_template_rows": null,
            "height": null,
            "justify_content": null,
            "justify_items": null,
            "left": null,
            "margin": null,
            "max_height": null,
            "max_width": null,
            "min_height": null,
            "min_width": null,
            "object_fit": null,
            "object_position": null,
            "order": null,
            "overflow": null,
            "overflow_x": null,
            "overflow_y": null,
            "padding": null,
            "right": null,
            "top": null,
            "visibility": null,
            "width": null
          }
        },
        "4bbd52e835e44f99bd2804889545c5ad": {
          "model_module": "@jupyter-widgets/controls",
          "model_name": "DescriptionStyleModel",
          "model_module_version": "1.5.0",
          "state": {
            "_model_module": "@jupyter-widgets/controls",
            "_model_module_version": "1.5.0",
            "_model_name": "DescriptionStyleModel",
            "_view_count": null,
            "_view_module": "@jupyter-widgets/base",
            "_view_module_version": "1.2.0",
            "_view_name": "StyleView",
            "description_width": ""
          }
        },
        "f921a56ca40c46e2b0650894fd3376c3": {
          "model_module": "@jupyter-widgets/controls",
          "model_name": "HBoxModel",
          "model_module_version": "1.5.0",
          "state": {
            "_dom_classes": [],
            "_model_module": "@jupyter-widgets/controls",
            "_model_module_version": "1.5.0",
            "_model_name": "HBoxModel",
            "_view_count": null,
            "_view_module": "@jupyter-widgets/controls",
            "_view_module_version": "1.5.0",
            "_view_name": "HBoxView",
            "box_style": "",
            "children": [
              "IPY_MODEL_c607de6c9102464989a7718b84e0cbb6",
              "IPY_MODEL_6f1547fcf5c6493fb778e7775e7f0b33",
              "IPY_MODEL_3329349545af4484bb8a3fb6c9e8c8a6"
            ],
            "layout": "IPY_MODEL_4b7a14ecf662438cbbcb6cdc90ae73fc"
          }
        },
        "c607de6c9102464989a7718b84e0cbb6": {
          "model_module": "@jupyter-widgets/controls",
          "model_name": "HTMLModel",
          "model_module_version": "1.5.0",
          "state": {
            "_dom_classes": [],
            "_model_module": "@jupyter-widgets/controls",
            "_model_module_version": "1.5.0",
            "_model_name": "HTMLModel",
            "_view_count": null,
            "_view_module": "@jupyter-widgets/controls",
            "_view_module_version": "1.5.0",
            "_view_name": "HTMLView",
            "description": "",
            "description_tooltip": null,
            "layout": "IPY_MODEL_fda2370321404ee0a5c6064c171bcc0a",
            "placeholder": "​",
            "style": "IPY_MODEL_ea6eaaee723d44fdaa6662fae77703b7",
            "value": "Downloading data: 100%"
          }
        },
        "6f1547fcf5c6493fb778e7775e7f0b33": {
          "model_module": "@jupyter-widgets/controls",
          "model_name": "FloatProgressModel",
          "model_module_version": "1.5.0",
          "state": {
            "_dom_classes": [],
            "_model_module": "@jupyter-widgets/controls",
            "_model_module_version": "1.5.0",
            "_model_name": "FloatProgressModel",
            "_view_count": null,
            "_view_module": "@jupyter-widgets/controls",
            "_view_module_version": "1.5.0",
            "_view_name": "ProgressView",
            "bar_style": "success",
            "description": "",
            "description_tooltip": null,
            "layout": "IPY_MODEL_b2d8149533ac4f2f8e061dba38f7d8e2",
            "max": 169001437,
            "min": 0,
            "orientation": "horizontal",
            "style": "IPY_MODEL_ccec5655c2f34ff9b6ffa75e4b0b3d80",
            "value": 169001437
          }
        },
        "3329349545af4484bb8a3fb6c9e8c8a6": {
          "model_module": "@jupyter-widgets/controls",
          "model_name": "HTMLModel",
          "model_module_version": "1.5.0",
          "state": {
            "_dom_classes": [],
            "_model_module": "@jupyter-widgets/controls",
            "_model_module_version": "1.5.0",
            "_model_name": "HTMLModel",
            "_view_count": null,
            "_view_module": "@jupyter-widgets/controls",
            "_view_module_version": "1.5.0",
            "_view_name": "HTMLView",
            "description": "",
            "description_tooltip": null,
            "layout": "IPY_MODEL_353d8d4d9f6f4aa1899e93978bf94aea",
            "placeholder": "​",
            "style": "IPY_MODEL_23f3b6c86266424081a33e10f03bb38f",
            "value": " 169M/169M [00:05&lt;00:00, 28.1MB/s]"
          }
        },
        "4b7a14ecf662438cbbcb6cdc90ae73fc": {
          "model_module": "@jupyter-widgets/base",
          "model_name": "LayoutModel",
          "model_module_version": "1.2.0",
          "state": {
            "_model_module": "@jupyter-widgets/base",
            "_model_module_version": "1.2.0",
            "_model_name": "LayoutModel",
            "_view_count": null,
            "_view_module": "@jupyter-widgets/base",
            "_view_module_version": "1.2.0",
            "_view_name": "LayoutView",
            "align_content": null,
            "align_items": null,
            "align_self": null,
            "border": null,
            "bottom": null,
            "display": null,
            "flex": null,
            "flex_flow": null,
            "grid_area": null,
            "grid_auto_columns": null,
            "grid_auto_flow": null,
            "grid_auto_rows": null,
            "grid_column": null,
            "grid_gap": null,
            "grid_row": null,
            "grid_template_areas": null,
            "grid_template_columns": null,
            "grid_template_rows": null,
            "height": null,
            "justify_content": null,
            "justify_items": null,
            "left": null,
            "margin": null,
            "max_height": null,
            "max_width": null,
            "min_height": null,
            "min_width": null,
            "object_fit": null,
            "object_position": null,
            "order": null,
            "overflow": null,
            "overflow_x": null,
            "overflow_y": null,
            "padding": null,
            "right": null,
            "top": null,
            "visibility": null,
            "width": null
          }
        },
        "fda2370321404ee0a5c6064c171bcc0a": {
          "model_module": "@jupyter-widgets/base",
          "model_name": "LayoutModel",
          "model_module_version": "1.2.0",
          "state": {
            "_model_module": "@jupyter-widgets/base",
            "_model_module_version": "1.2.0",
            "_model_name": "LayoutModel",
            "_view_count": null,
            "_view_module": "@jupyter-widgets/base",
            "_view_module_version": "1.2.0",
            "_view_name": "LayoutView",
            "align_content": null,
            "align_items": null,
            "align_self": null,
            "border": null,
            "bottom": null,
            "display": null,
            "flex": null,
            "flex_flow": null,
            "grid_area": null,
            "grid_auto_columns": null,
            "grid_auto_flow": null,
            "grid_auto_rows": null,
            "grid_column": null,
            "grid_gap": null,
            "grid_row": null,
            "grid_template_areas": null,
            "grid_template_columns": null,
            "grid_template_rows": null,
            "height": null,
            "justify_content": null,
            "justify_items": null,
            "left": null,
            "margin": null,
            "max_height": null,
            "max_width": null,
            "min_height": null,
            "min_width": null,
            "object_fit": null,
            "object_position": null,
            "order": null,
            "overflow": null,
            "overflow_x": null,
            "overflow_y": null,
            "padding": null,
            "right": null,
            "top": null,
            "visibility": null,
            "width": null
          }
        },
        "ea6eaaee723d44fdaa6662fae77703b7": {
          "model_module": "@jupyter-widgets/controls",
          "model_name": "DescriptionStyleModel",
          "model_module_version": "1.5.0",
          "state": {
            "_model_module": "@jupyter-widgets/controls",
            "_model_module_version": "1.5.0",
            "_model_name": "DescriptionStyleModel",
            "_view_count": null,
            "_view_module": "@jupyter-widgets/base",
            "_view_module_version": "1.2.0",
            "_view_name": "StyleView",
            "description_width": ""
          }
        },
        "b2d8149533ac4f2f8e061dba38f7d8e2": {
          "model_module": "@jupyter-widgets/base",
          "model_name": "LayoutModel",
          "model_module_version": "1.2.0",
          "state": {
            "_model_module": "@jupyter-widgets/base",
            "_model_module_version": "1.2.0",
            "_model_name": "LayoutModel",
            "_view_count": null,
            "_view_module": "@jupyter-widgets/base",
            "_view_module_version": "1.2.0",
            "_view_name": "LayoutView",
            "align_content": null,
            "align_items": null,
            "align_self": null,
            "border": null,
            "bottom": null,
            "display": null,
            "flex": null,
            "flex_flow": null,
            "grid_area": null,
            "grid_auto_columns": null,
            "grid_auto_flow": null,
            "grid_auto_rows": null,
            "grid_column": null,
            "grid_gap": null,
            "grid_row": null,
            "grid_template_areas": null,
            "grid_template_columns": null,
            "grid_template_rows": null,
            "height": null,
            "justify_content": null,
            "justify_items": null,
            "left": null,
            "margin": null,
            "max_height": null,
            "max_width": null,
            "min_height": null,
            "min_width": null,
            "object_fit": null,
            "object_position": null,
            "order": null,
            "overflow": null,
            "overflow_x": null,
            "overflow_y": null,
            "padding": null,
            "right": null,
            "top": null,
            "visibility": null,
            "width": null
          }
        },
        "ccec5655c2f34ff9b6ffa75e4b0b3d80": {
          "model_module": "@jupyter-widgets/controls",
          "model_name": "ProgressStyleModel",
          "model_module_version": "1.5.0",
          "state": {
            "_model_module": "@jupyter-widgets/controls",
            "_model_module_version": "1.5.0",
            "_model_name": "ProgressStyleModel",
            "_view_count": null,
            "_view_module": "@jupyter-widgets/base",
            "_view_module_version": "1.2.0",
            "_view_name": "StyleView",
            "bar_color": null,
            "description_width": ""
          }
        },
        "353d8d4d9f6f4aa1899e93978bf94aea": {
          "model_module": "@jupyter-widgets/base",
          "model_name": "LayoutModel",
          "model_module_version": "1.2.0",
          "state": {
            "_model_module": "@jupyter-widgets/base",
            "_model_module_version": "1.2.0",
            "_model_name": "LayoutModel",
            "_view_count": null,
            "_view_module": "@jupyter-widgets/base",
            "_view_module_version": "1.2.0",
            "_view_name": "LayoutView",
            "align_content": null,
            "align_items": null,
            "align_self": null,
            "border": null,
            "bottom": null,
            "display": null,
            "flex": null,
            "flex_flow": null,
            "grid_area": null,
            "grid_auto_columns": null,
            "grid_auto_flow": null,
            "grid_auto_rows": null,
            "grid_column": null,
            "grid_gap": null,
            "grid_row": null,
            "grid_template_areas": null,
            "grid_template_columns": null,
            "grid_template_rows": null,
            "height": null,
            "justify_content": null,
            "justify_items": null,
            "left": null,
            "margin": null,
            "max_height": null,
            "max_width": null,
            "min_height": null,
            "min_width": null,
            "object_fit": null,
            "object_position": null,
            "order": null,
            "overflow": null,
            "overflow_x": null,
            "overflow_y": null,
            "padding": null,
            "right": null,
            "top": null,
            "visibility": null,
            "width": null
          }
        },
        "23f3b6c86266424081a33e10f03bb38f": {
          "model_module": "@jupyter-widgets/controls",
          "model_name": "DescriptionStyleModel",
          "model_module_version": "1.5.0",
          "state": {
            "_model_module": "@jupyter-widgets/controls",
            "_model_module_version": "1.5.0",
            "_model_name": "DescriptionStyleModel",
            "_view_count": null,
            "_view_module": "@jupyter-widgets/base",
            "_view_module_version": "1.2.0",
            "_view_name": "StyleView",
            "description_width": ""
          }
        },
        "388ba79fa56d4cf38d920d55436a53df": {
          "model_module": "@jupyter-widgets/controls",
          "model_name": "HBoxModel",
          "model_module_version": "1.5.0",
          "state": {
            "_dom_classes": [],
            "_model_module": "@jupyter-widgets/controls",
            "_model_module_version": "1.5.0",
            "_model_name": "HBoxModel",
            "_view_count": null,
            "_view_module": "@jupyter-widgets/controls",
            "_view_module_version": "1.5.0",
            "_view_name": "HBoxView",
            "box_style": "",
            "children": [
              "IPY_MODEL_6fc721bb4f8748f1bb1db31cbe5ca3e8",
              "IPY_MODEL_bf49bf8ff4294f0a90194d363a793fd1",
              "IPY_MODEL_470ecafc1aa849139fbd60ce01360652"
            ],
            "layout": "IPY_MODEL_0a394bde8a1c413aa08d4f6b72bf488e"
          }
        },
        "6fc721bb4f8748f1bb1db31cbe5ca3e8": {
          "model_module": "@jupyter-widgets/controls",
          "model_name": "HTMLModel",
          "model_module_version": "1.5.0",
          "state": {
            "_dom_classes": [],
            "_model_module": "@jupyter-widgets/controls",
            "_model_module_version": "1.5.0",
            "_model_name": "HTMLModel",
            "_view_count": null,
            "_view_module": "@jupyter-widgets/controls",
            "_view_module_version": "1.5.0",
            "_view_name": "HTMLView",
            "description": "",
            "description_tooltip": null,
            "layout": "IPY_MODEL_96e8f7e8a56349f697ca7c283c7ca6dc",
            "placeholder": "​",
            "style": "IPY_MODEL_40db65ef48204bd3a8cbcc1b28f32943",
            "value": "Generating train split: 100%"
          }
        },
        "bf49bf8ff4294f0a90194d363a793fd1": {
          "model_module": "@jupyter-widgets/controls",
          "model_name": "FloatProgressModel",
          "model_module_version": "1.5.0",
          "state": {
            "_dom_classes": [],
            "_model_module": "@jupyter-widgets/controls",
            "_model_module_version": "1.5.0",
            "_model_name": "FloatProgressModel",
            "_view_count": null,
            "_view_module": "@jupyter-widgets/controls",
            "_view_module_version": "1.5.0",
            "_view_name": "ProgressView",
            "bar_style": "",
            "description": "",
            "description_tooltip": null,
            "layout": "IPY_MODEL_4443f2fe46134a55b47af274c5b39df1",
            "max": 50000,
            "min": 0,
            "orientation": "horizontal",
            "style": "IPY_MODEL_2552c0591a724e4ca9fe72107fd01e6e",
            "value": 50000
          }
        },
        "470ecafc1aa849139fbd60ce01360652": {
          "model_module": "@jupyter-widgets/controls",
          "model_name": "HTMLModel",
          "model_module_version": "1.5.0",
          "state": {
            "_dom_classes": [],
            "_model_module": "@jupyter-widgets/controls",
            "_model_module_version": "1.5.0",
            "_model_name": "HTMLModel",
            "_view_count": null,
            "_view_module": "@jupyter-widgets/controls",
            "_view_module_version": "1.5.0",
            "_view_name": "HTMLView",
            "description": "",
            "description_tooltip": null,
            "layout": "IPY_MODEL_74f3d47151e84484a2aba65ebf68e6a2",
            "placeholder": "​",
            "style": "IPY_MODEL_206a3d5821b24833959cd98f77ceed98",
            "value": " 49851/50000 [00:24&lt;00:00, 2319.74 examples/s]"
          }
        },
        "0a394bde8a1c413aa08d4f6b72bf488e": {
          "model_module": "@jupyter-widgets/base",
          "model_name": "LayoutModel",
          "model_module_version": "1.2.0",
          "state": {
            "_model_module": "@jupyter-widgets/base",
            "_model_module_version": "1.2.0",
            "_model_name": "LayoutModel",
            "_view_count": null,
            "_view_module": "@jupyter-widgets/base",
            "_view_module_version": "1.2.0",
            "_view_name": "LayoutView",
            "align_content": null,
            "align_items": null,
            "align_self": null,
            "border": null,
            "bottom": null,
            "display": null,
            "flex": null,
            "flex_flow": null,
            "grid_area": null,
            "grid_auto_columns": null,
            "grid_auto_flow": null,
            "grid_auto_rows": null,
            "grid_column": null,
            "grid_gap": null,
            "grid_row": null,
            "grid_template_areas": null,
            "grid_template_columns": null,
            "grid_template_rows": null,
            "height": null,
            "justify_content": null,
            "justify_items": null,
            "left": null,
            "margin": null,
            "max_height": null,
            "max_width": null,
            "min_height": null,
            "min_width": null,
            "object_fit": null,
            "object_position": null,
            "order": null,
            "overflow": null,
            "overflow_x": null,
            "overflow_y": null,
            "padding": null,
            "right": null,
            "top": null,
            "visibility": null,
            "width": null
          }
        },
        "96e8f7e8a56349f697ca7c283c7ca6dc": {
          "model_module": "@jupyter-widgets/base",
          "model_name": "LayoutModel",
          "model_module_version": "1.2.0",
          "state": {
            "_model_module": "@jupyter-widgets/base",
            "_model_module_version": "1.2.0",
            "_model_name": "LayoutModel",
            "_view_count": null,
            "_view_module": "@jupyter-widgets/base",
            "_view_module_version": "1.2.0",
            "_view_name": "LayoutView",
            "align_content": null,
            "align_items": null,
            "align_self": null,
            "border": null,
            "bottom": null,
            "display": null,
            "flex": null,
            "flex_flow": null,
            "grid_area": null,
            "grid_auto_columns": null,
            "grid_auto_flow": null,
            "grid_auto_rows": null,
            "grid_column": null,
            "grid_gap": null,
            "grid_row": null,
            "grid_template_areas": null,
            "grid_template_columns": null,
            "grid_template_rows": null,
            "height": null,
            "justify_content": null,
            "justify_items": null,
            "left": null,
            "margin": null,
            "max_height": null,
            "max_width": null,
            "min_height": null,
            "min_width": null,
            "object_fit": null,
            "object_position": null,
            "order": null,
            "overflow": null,
            "overflow_x": null,
            "overflow_y": null,
            "padding": null,
            "right": null,
            "top": null,
            "visibility": null,
            "width": null
          }
        },
        "40db65ef48204bd3a8cbcc1b28f32943": {
          "model_module": "@jupyter-widgets/controls",
          "model_name": "DescriptionStyleModel",
          "model_module_version": "1.5.0",
          "state": {
            "_model_module": "@jupyter-widgets/controls",
            "_model_module_version": "1.5.0",
            "_model_name": "DescriptionStyleModel",
            "_view_count": null,
            "_view_module": "@jupyter-widgets/base",
            "_view_module_version": "1.2.0",
            "_view_name": "StyleView",
            "description_width": ""
          }
        },
        "4443f2fe46134a55b47af274c5b39df1": {
          "model_module": "@jupyter-widgets/base",
          "model_name": "LayoutModel",
          "model_module_version": "1.2.0",
          "state": {
            "_model_module": "@jupyter-widgets/base",
            "_model_module_version": "1.2.0",
            "_model_name": "LayoutModel",
            "_view_count": null,
            "_view_module": "@jupyter-widgets/base",
            "_view_module_version": "1.2.0",
            "_view_name": "LayoutView",
            "align_content": null,
            "align_items": null,
            "align_self": null,
            "border": null,
            "bottom": null,
            "display": null,
            "flex": null,
            "flex_flow": null,
            "grid_area": null,
            "grid_auto_columns": null,
            "grid_auto_flow": null,
            "grid_auto_rows": null,
            "grid_column": null,
            "grid_gap": null,
            "grid_row": null,
            "grid_template_areas": null,
            "grid_template_columns": null,
            "grid_template_rows": null,
            "height": null,
            "justify_content": null,
            "justify_items": null,
            "left": null,
            "margin": null,
            "max_height": null,
            "max_width": null,
            "min_height": null,
            "min_width": null,
            "object_fit": null,
            "object_position": null,
            "order": null,
            "overflow": null,
            "overflow_x": null,
            "overflow_y": null,
            "padding": null,
            "right": null,
            "top": null,
            "visibility": null,
            "width": null
          }
        },
        "2552c0591a724e4ca9fe72107fd01e6e": {
          "model_module": "@jupyter-widgets/controls",
          "model_name": "ProgressStyleModel",
          "model_module_version": "1.5.0",
          "state": {
            "_model_module": "@jupyter-widgets/controls",
            "_model_module_version": "1.5.0",
            "_model_name": "ProgressStyleModel",
            "_view_count": null,
            "_view_module": "@jupyter-widgets/base",
            "_view_module_version": "1.2.0",
            "_view_name": "StyleView",
            "bar_color": null,
            "description_width": ""
          }
        },
        "74f3d47151e84484a2aba65ebf68e6a2": {
          "model_module": "@jupyter-widgets/base",
          "model_name": "LayoutModel",
          "model_module_version": "1.2.0",
          "state": {
            "_model_module": "@jupyter-widgets/base",
            "_model_module_version": "1.2.0",
            "_model_name": "LayoutModel",
            "_view_count": null,
            "_view_module": "@jupyter-widgets/base",
            "_view_module_version": "1.2.0",
            "_view_name": "LayoutView",
            "align_content": null,
            "align_items": null,
            "align_self": null,
            "border": null,
            "bottom": null,
            "display": null,
            "flex": null,
            "flex_flow": null,
            "grid_area": null,
            "grid_auto_columns": null,
            "grid_auto_flow": null,
            "grid_auto_rows": null,
            "grid_column": null,
            "grid_gap": null,
            "grid_row": null,
            "grid_template_areas": null,
            "grid_template_columns": null,
            "grid_template_rows": null,
            "height": null,
            "justify_content": null,
            "justify_items": null,
            "left": null,
            "margin": null,
            "max_height": null,
            "max_width": null,
            "min_height": null,
            "min_width": null,
            "object_fit": null,
            "object_position": null,
            "order": null,
            "overflow": null,
            "overflow_x": null,
            "overflow_y": null,
            "padding": null,
            "right": null,
            "top": null,
            "visibility": null,
            "width": null
          }
        },
        "206a3d5821b24833959cd98f77ceed98": {
          "model_module": "@jupyter-widgets/controls",
          "model_name": "DescriptionStyleModel",
          "model_module_version": "1.5.0",
          "state": {
            "_model_module": "@jupyter-widgets/controls",
            "_model_module_version": "1.5.0",
            "_model_name": "DescriptionStyleModel",
            "_view_count": null,
            "_view_module": "@jupyter-widgets/base",
            "_view_module_version": "1.2.0",
            "_view_name": "StyleView",
            "description_width": ""
          }
        },
        "093e9eb44ae548a7ac9a5ace8ce31a0f": {
          "model_module": "@jupyter-widgets/controls",
          "model_name": "HBoxModel",
          "model_module_version": "1.5.0",
          "state": {
            "_dom_classes": [],
            "_model_module": "@jupyter-widgets/controls",
            "_model_module_version": "1.5.0",
            "_model_name": "HBoxModel",
            "_view_count": null,
            "_view_module": "@jupyter-widgets/controls",
            "_view_module_version": "1.5.0",
            "_view_name": "HBoxView",
            "box_style": "",
            "children": [
              "IPY_MODEL_cad0b0c7afe5417287622224fe5df8c5",
              "IPY_MODEL_d2c03dd4778447bd88b0a4aa6a8531cd",
              "IPY_MODEL_9f143ba9ea614da8a765836c8680462e"
            ],
            "layout": "IPY_MODEL_42b3854d82d440cdb61fd63115487bd5"
          }
        },
        "cad0b0c7afe5417287622224fe5df8c5": {
          "model_module": "@jupyter-widgets/controls",
          "model_name": "HTMLModel",
          "model_module_version": "1.5.0",
          "state": {
            "_dom_classes": [],
            "_model_module": "@jupyter-widgets/controls",
            "_model_module_version": "1.5.0",
            "_model_name": "HTMLModel",
            "_view_count": null,
            "_view_module": "@jupyter-widgets/controls",
            "_view_module_version": "1.5.0",
            "_view_name": "HTMLView",
            "description": "",
            "description_tooltip": null,
            "layout": "IPY_MODEL_e2dbcb1d41cb4163ac73e3e873b423e5",
            "placeholder": "​",
            "style": "IPY_MODEL_a9685dfe3e174d55accbdf6e711afdc7",
            "value": "Generating test split: 100%"
          }
        },
        "d2c03dd4778447bd88b0a4aa6a8531cd": {
          "model_module": "@jupyter-widgets/controls",
          "model_name": "FloatProgressModel",
          "model_module_version": "1.5.0",
          "state": {
            "_dom_classes": [],
            "_model_module": "@jupyter-widgets/controls",
            "_model_module_version": "1.5.0",
            "_model_name": "FloatProgressModel",
            "_view_count": null,
            "_view_module": "@jupyter-widgets/controls",
            "_view_module_version": "1.5.0",
            "_view_name": "ProgressView",
            "bar_style": "",
            "description": "",
            "description_tooltip": null,
            "layout": "IPY_MODEL_235b33ebcfa146b2807cd2b468969c49",
            "max": 10000,
            "min": 0,
            "orientation": "horizontal",
            "style": "IPY_MODEL_c973ccc2ae6d4a8e84b306c4b73c17fd",
            "value": 10000
          }
        },
        "9f143ba9ea614da8a765836c8680462e": {
          "model_module": "@jupyter-widgets/controls",
          "model_name": "HTMLModel",
          "model_module_version": "1.5.0",
          "state": {
            "_dom_classes": [],
            "_model_module": "@jupyter-widgets/controls",
            "_model_module_version": "1.5.0",
            "_model_name": "HTMLModel",
            "_view_count": null,
            "_view_module": "@jupyter-widgets/controls",
            "_view_module_version": "1.5.0",
            "_view_name": "HTMLView",
            "description": "",
            "description_tooltip": null,
            "layout": "IPY_MODEL_dd0246e6d51d4efe9c87e168e4b85c27",
            "placeholder": "​",
            "style": "IPY_MODEL_131bcaaf74554d3182f13e6e855f49cd",
            "value": " 9977/10000 [00:05&lt;00:00, 2212.85 examples/s]"
          }
        },
        "42b3854d82d440cdb61fd63115487bd5": {
          "model_module": "@jupyter-widgets/base",
          "model_name": "LayoutModel",
          "model_module_version": "1.2.0",
          "state": {
            "_model_module": "@jupyter-widgets/base",
            "_model_module_version": "1.2.0",
            "_model_name": "LayoutModel",
            "_view_count": null,
            "_view_module": "@jupyter-widgets/base",
            "_view_module_version": "1.2.0",
            "_view_name": "LayoutView",
            "align_content": null,
            "align_items": null,
            "align_self": null,
            "border": null,
            "bottom": null,
            "display": null,
            "flex": null,
            "flex_flow": null,
            "grid_area": null,
            "grid_auto_columns": null,
            "grid_auto_flow": null,
            "grid_auto_rows": null,
            "grid_column": null,
            "grid_gap": null,
            "grid_row": null,
            "grid_template_areas": null,
            "grid_template_columns": null,
            "grid_template_rows": null,
            "height": null,
            "justify_content": null,
            "justify_items": null,
            "left": null,
            "margin": null,
            "max_height": null,
            "max_width": null,
            "min_height": null,
            "min_width": null,
            "object_fit": null,
            "object_position": null,
            "order": null,
            "overflow": null,
            "overflow_x": null,
            "overflow_y": null,
            "padding": null,
            "right": null,
            "top": null,
            "visibility": null,
            "width": null
          }
        },
        "e2dbcb1d41cb4163ac73e3e873b423e5": {
          "model_module": "@jupyter-widgets/base",
          "model_name": "LayoutModel",
          "model_module_version": "1.2.0",
          "state": {
            "_model_module": "@jupyter-widgets/base",
            "_model_module_version": "1.2.0",
            "_model_name": "LayoutModel",
            "_view_count": null,
            "_view_module": "@jupyter-widgets/base",
            "_view_module_version": "1.2.0",
            "_view_name": "LayoutView",
            "align_content": null,
            "align_items": null,
            "align_self": null,
            "border": null,
            "bottom": null,
            "display": null,
            "flex": null,
            "flex_flow": null,
            "grid_area": null,
            "grid_auto_columns": null,
            "grid_auto_flow": null,
            "grid_auto_rows": null,
            "grid_column": null,
            "grid_gap": null,
            "grid_row": null,
            "grid_template_areas": null,
            "grid_template_columns": null,
            "grid_template_rows": null,
            "height": null,
            "justify_content": null,
            "justify_items": null,
            "left": null,
            "margin": null,
            "max_height": null,
            "max_width": null,
            "min_height": null,
            "min_width": null,
            "object_fit": null,
            "object_position": null,
            "order": null,
            "overflow": null,
            "overflow_x": null,
            "overflow_y": null,
            "padding": null,
            "right": null,
            "top": null,
            "visibility": null,
            "width": null
          }
        },
        "a9685dfe3e174d55accbdf6e711afdc7": {
          "model_module": "@jupyter-widgets/controls",
          "model_name": "DescriptionStyleModel",
          "model_module_version": "1.5.0",
          "state": {
            "_model_module": "@jupyter-widgets/controls",
            "_model_module_version": "1.5.0",
            "_model_name": "DescriptionStyleModel",
            "_view_count": null,
            "_view_module": "@jupyter-widgets/base",
            "_view_module_version": "1.2.0",
            "_view_name": "StyleView",
            "description_width": ""
          }
        },
        "235b33ebcfa146b2807cd2b468969c49": {
          "model_module": "@jupyter-widgets/base",
          "model_name": "LayoutModel",
          "model_module_version": "1.2.0",
          "state": {
            "_model_module": "@jupyter-widgets/base",
            "_model_module_version": "1.2.0",
            "_model_name": "LayoutModel",
            "_view_count": null,
            "_view_module": "@jupyter-widgets/base",
            "_view_module_version": "1.2.0",
            "_view_name": "LayoutView",
            "align_content": null,
            "align_items": null,
            "align_self": null,
            "border": null,
            "bottom": null,
            "display": null,
            "flex": null,
            "flex_flow": null,
            "grid_area": null,
            "grid_auto_columns": null,
            "grid_auto_flow": null,
            "grid_auto_rows": null,
            "grid_column": null,
            "grid_gap": null,
            "grid_row": null,
            "grid_template_areas": null,
            "grid_template_columns": null,
            "grid_template_rows": null,
            "height": null,
            "justify_content": null,
            "justify_items": null,
            "left": null,
            "margin": null,
            "max_height": null,
            "max_width": null,
            "min_height": null,
            "min_width": null,
            "object_fit": null,
            "object_position": null,
            "order": null,
            "overflow": null,
            "overflow_x": null,
            "overflow_y": null,
            "padding": null,
            "right": null,
            "top": null,
            "visibility": null,
            "width": null
          }
        },
        "c973ccc2ae6d4a8e84b306c4b73c17fd": {
          "model_module": "@jupyter-widgets/controls",
          "model_name": "ProgressStyleModel",
          "model_module_version": "1.5.0",
          "state": {
            "_model_module": "@jupyter-widgets/controls",
            "_model_module_version": "1.5.0",
            "_model_name": "ProgressStyleModel",
            "_view_count": null,
            "_view_module": "@jupyter-widgets/base",
            "_view_module_version": "1.2.0",
            "_view_name": "StyleView",
            "bar_color": null,
            "description_width": ""
          }
        },
        "dd0246e6d51d4efe9c87e168e4b85c27": {
          "model_module": "@jupyter-widgets/base",
          "model_name": "LayoutModel",
          "model_module_version": "1.2.0",
          "state": {
            "_model_module": "@jupyter-widgets/base",
            "_model_module_version": "1.2.0",
            "_model_name": "LayoutModel",
            "_view_count": null,
            "_view_module": "@jupyter-widgets/base",
            "_view_module_version": "1.2.0",
            "_view_name": "LayoutView",
            "align_content": null,
            "align_items": null,
            "align_self": null,
            "border": null,
            "bottom": null,
            "display": null,
            "flex": null,
            "flex_flow": null,
            "grid_area": null,
            "grid_auto_columns": null,
            "grid_auto_flow": null,
            "grid_auto_rows": null,
            "grid_column": null,
            "grid_gap": null,
            "grid_row": null,
            "grid_template_areas": null,
            "grid_template_columns": null,
            "grid_template_rows": null,
            "height": null,
            "justify_content": null,
            "justify_items": null,
            "left": null,
            "margin": null,
            "max_height": null,
            "max_width": null,
            "min_height": null,
            "min_width": null,
            "object_fit": null,
            "object_position": null,
            "order": null,
            "overflow": null,
            "overflow_x": null,
            "overflow_y": null,
            "padding": null,
            "right": null,
            "top": null,
            "visibility": null,
            "width": null
          }
        },
        "131bcaaf74554d3182f13e6e855f49cd": {
          "model_module": "@jupyter-widgets/controls",
          "model_name": "DescriptionStyleModel",
          "model_module_version": "1.5.0",
          "state": {
            "_model_module": "@jupyter-widgets/controls",
            "_model_module_version": "1.5.0",
            "_model_name": "DescriptionStyleModel",
            "_view_count": null,
            "_view_module": "@jupyter-widgets/base",
            "_view_module_version": "1.2.0",
            "_view_name": "StyleView",
            "description_width": ""
          }
        },
        "8c6fe2c41a934a509efc7db1550f953b": {
          "model_module": "@jupyter-widgets/controls",
          "model_name": "HBoxModel",
          "model_module_version": "1.5.0",
          "state": {
            "_dom_classes": [],
            "_model_module": "@jupyter-widgets/controls",
            "_model_module_version": "1.5.0",
            "_model_name": "HBoxModel",
            "_view_count": null,
            "_view_module": "@jupyter-widgets/controls",
            "_view_module_version": "1.5.0",
            "_view_name": "HBoxView",
            "box_style": "",
            "children": [
              "IPY_MODEL_fc5c764d1a8d4275938b4fc77deedd14",
              "IPY_MODEL_39aafe733a754c84b21474a4bdeb81c5",
              "IPY_MODEL_a311769fe5ca4f818a0723820c64734e"
            ],
            "layout": "IPY_MODEL_1acc8c5364474580a60775b51a623c0a"
          }
        },
        "fc5c764d1a8d4275938b4fc77deedd14": {
          "model_module": "@jupyter-widgets/controls",
          "model_name": "HTMLModel",
          "model_module_version": "1.5.0",
          "state": {
            "_dom_classes": [],
            "_model_module": "@jupyter-widgets/controls",
            "_model_module_version": "1.5.0",
            "_model_name": "HTMLModel",
            "_view_count": null,
            "_view_module": "@jupyter-widgets/controls",
            "_view_module_version": "1.5.0",
            "_view_name": "HTMLView",
            "description": "",
            "description_tooltip": null,
            "layout": "IPY_MODEL_81a31126f94d4c0384ce340661284503",
            "placeholder": "​",
            "style": "IPY_MODEL_f7205ebf655646818adbe24abcdb2b47",
            "value": "100%"
          }
        },
        "39aafe733a754c84b21474a4bdeb81c5": {
          "model_module": "@jupyter-widgets/controls",
          "model_name": "FloatProgressModel",
          "model_module_version": "1.5.0",
          "state": {
            "_dom_classes": [],
            "_model_module": "@jupyter-widgets/controls",
            "_model_module_version": "1.5.0",
            "_model_name": "FloatProgressModel",
            "_view_count": null,
            "_view_module": "@jupyter-widgets/controls",
            "_view_module_version": "1.5.0",
            "_view_name": "ProgressView",
            "bar_style": "success",
            "description": "",
            "description_tooltip": null,
            "layout": "IPY_MODEL_7741b1673e2642e0b5d6e652e75157b0",
            "max": 2,
            "min": 0,
            "orientation": "horizontal",
            "style": "IPY_MODEL_f84949a02d8a423c94d7c885bcec76fd",
            "value": 2
          }
        },
        "a311769fe5ca4f818a0723820c64734e": {
          "model_module": "@jupyter-widgets/controls",
          "model_name": "HTMLModel",
          "model_module_version": "1.5.0",
          "state": {
            "_dom_classes": [],
            "_model_module": "@jupyter-widgets/controls",
            "_model_module_version": "1.5.0",
            "_model_name": "HTMLModel",
            "_view_count": null,
            "_view_module": "@jupyter-widgets/controls",
            "_view_module_version": "1.5.0",
            "_view_name": "HTMLView",
            "description": "",
            "description_tooltip": null,
            "layout": "IPY_MODEL_1dbc9daf25f84f63bc56ca111b93dd09",
            "placeholder": "​",
            "style": "IPY_MODEL_5d7049a85ca54277a127df4c05e40eac",
            "value": " 2/2 [00:00&lt;00:00, 38.00it/s]"
          }
        },
        "1acc8c5364474580a60775b51a623c0a": {
          "model_module": "@jupyter-widgets/base",
          "model_name": "LayoutModel",
          "model_module_version": "1.2.0",
          "state": {
            "_model_module": "@jupyter-widgets/base",
            "_model_module_version": "1.2.0",
            "_model_name": "LayoutModel",
            "_view_count": null,
            "_view_module": "@jupyter-widgets/base",
            "_view_module_version": "1.2.0",
            "_view_name": "LayoutView",
            "align_content": null,
            "align_items": null,
            "align_self": null,
            "border": null,
            "bottom": null,
            "display": null,
            "flex": null,
            "flex_flow": null,
            "grid_area": null,
            "grid_auto_columns": null,
            "grid_auto_flow": null,
            "grid_auto_rows": null,
            "grid_column": null,
            "grid_gap": null,
            "grid_row": null,
            "grid_template_areas": null,
            "grid_template_columns": null,
            "grid_template_rows": null,
            "height": null,
            "justify_content": null,
            "justify_items": null,
            "left": null,
            "margin": null,
            "max_height": null,
            "max_width": null,
            "min_height": null,
            "min_width": null,
            "object_fit": null,
            "object_position": null,
            "order": null,
            "overflow": null,
            "overflow_x": null,
            "overflow_y": null,
            "padding": null,
            "right": null,
            "top": null,
            "visibility": null,
            "width": null
          }
        },
        "81a31126f94d4c0384ce340661284503": {
          "model_module": "@jupyter-widgets/base",
          "model_name": "LayoutModel",
          "model_module_version": "1.2.0",
          "state": {
            "_model_module": "@jupyter-widgets/base",
            "_model_module_version": "1.2.0",
            "_model_name": "LayoutModel",
            "_view_count": null,
            "_view_module": "@jupyter-widgets/base",
            "_view_module_version": "1.2.0",
            "_view_name": "LayoutView",
            "align_content": null,
            "align_items": null,
            "align_self": null,
            "border": null,
            "bottom": null,
            "display": null,
            "flex": null,
            "flex_flow": null,
            "grid_area": null,
            "grid_auto_columns": null,
            "grid_auto_flow": null,
            "grid_auto_rows": null,
            "grid_column": null,
            "grid_gap": null,
            "grid_row": null,
            "grid_template_areas": null,
            "grid_template_columns": null,
            "grid_template_rows": null,
            "height": null,
            "justify_content": null,
            "justify_items": null,
            "left": null,
            "margin": null,
            "max_height": null,
            "max_width": null,
            "min_height": null,
            "min_width": null,
            "object_fit": null,
            "object_position": null,
            "order": null,
            "overflow": null,
            "overflow_x": null,
            "overflow_y": null,
            "padding": null,
            "right": null,
            "top": null,
            "visibility": null,
            "width": null
          }
        },
        "f7205ebf655646818adbe24abcdb2b47": {
          "model_module": "@jupyter-widgets/controls",
          "model_name": "DescriptionStyleModel",
          "model_module_version": "1.5.0",
          "state": {
            "_model_module": "@jupyter-widgets/controls",
            "_model_module_version": "1.5.0",
            "_model_name": "DescriptionStyleModel",
            "_view_count": null,
            "_view_module": "@jupyter-widgets/base",
            "_view_module_version": "1.2.0",
            "_view_name": "StyleView",
            "description_width": ""
          }
        },
        "7741b1673e2642e0b5d6e652e75157b0": {
          "model_module": "@jupyter-widgets/base",
          "model_name": "LayoutModel",
          "model_module_version": "1.2.0",
          "state": {
            "_model_module": "@jupyter-widgets/base",
            "_model_module_version": "1.2.0",
            "_model_name": "LayoutModel",
            "_view_count": null,
            "_view_module": "@jupyter-widgets/base",
            "_view_module_version": "1.2.0",
            "_view_name": "LayoutView",
            "align_content": null,
            "align_items": null,
            "align_self": null,
            "border": null,
            "bottom": null,
            "display": null,
            "flex": null,
            "flex_flow": null,
            "grid_area": null,
            "grid_auto_columns": null,
            "grid_auto_flow": null,
            "grid_auto_rows": null,
            "grid_column": null,
            "grid_gap": null,
            "grid_row": null,
            "grid_template_areas": null,
            "grid_template_columns": null,
            "grid_template_rows": null,
            "height": null,
            "justify_content": null,
            "justify_items": null,
            "left": null,
            "margin": null,
            "max_height": null,
            "max_width": null,
            "min_height": null,
            "min_width": null,
            "object_fit": null,
            "object_position": null,
            "order": null,
            "overflow": null,
            "overflow_x": null,
            "overflow_y": null,
            "padding": null,
            "right": null,
            "top": null,
            "visibility": null,
            "width": null
          }
        },
        "f84949a02d8a423c94d7c885bcec76fd": {
          "model_module": "@jupyter-widgets/controls",
          "model_name": "ProgressStyleModel",
          "model_module_version": "1.5.0",
          "state": {
            "_model_module": "@jupyter-widgets/controls",
            "_model_module_version": "1.5.0",
            "_model_name": "ProgressStyleModel",
            "_view_count": null,
            "_view_module": "@jupyter-widgets/base",
            "_view_module_version": "1.2.0",
            "_view_name": "StyleView",
            "bar_color": null,
            "description_width": ""
          }
        },
        "1dbc9daf25f84f63bc56ca111b93dd09": {
          "model_module": "@jupyter-widgets/base",
          "model_name": "LayoutModel",
          "model_module_version": "1.2.0",
          "state": {
            "_model_module": "@jupyter-widgets/base",
            "_model_module_version": "1.2.0",
            "_model_name": "LayoutModel",
            "_view_count": null,
            "_view_module": "@jupyter-widgets/base",
            "_view_module_version": "1.2.0",
            "_view_name": "LayoutView",
            "align_content": null,
            "align_items": null,
            "align_self": null,
            "border": null,
            "bottom": null,
            "display": null,
            "flex": null,
            "flex_flow": null,
            "grid_area": null,
            "grid_auto_columns": null,
            "grid_auto_flow": null,
            "grid_auto_rows": null,
            "grid_column": null,
            "grid_gap": null,
            "grid_row": null,
            "grid_template_areas": null,
            "grid_template_columns": null,
            "grid_template_rows": null,
            "height": null,
            "justify_content": null,
            "justify_items": null,
            "left": null,
            "margin": null,
            "max_height": null,
            "max_width": null,
            "min_height": null,
            "min_width": null,
            "object_fit": null,
            "object_position": null,
            "order": null,
            "overflow": null,
            "overflow_x": null,
            "overflow_y": null,
            "padding": null,
            "right": null,
            "top": null,
            "visibility": null,
            "width": null
          }
        },
        "5d7049a85ca54277a127df4c05e40eac": {
          "model_module": "@jupyter-widgets/controls",
          "model_name": "DescriptionStyleModel",
          "model_module_version": "1.5.0",
          "state": {
            "_model_module": "@jupyter-widgets/controls",
            "_model_module_version": "1.5.0",
            "_model_name": "DescriptionStyleModel",
            "_view_count": null,
            "_view_module": "@jupyter-widgets/base",
            "_view_module_version": "1.2.0",
            "_view_name": "StyleView",
            "description_width": ""
          }
        },
        "21a21324b9ec4fd1b436512dfbabc615": {
          "model_module": "@jupyter-widgets/controls",
          "model_name": "HBoxModel",
          "model_module_version": "1.5.0",
          "state": {
            "_dom_classes": [],
            "_model_module": "@jupyter-widgets/controls",
            "_model_module_version": "1.5.0",
            "_model_name": "HBoxModel",
            "_view_count": null,
            "_view_module": "@jupyter-widgets/controls",
            "_view_module_version": "1.5.0",
            "_view_name": "HBoxView",
            "box_style": "",
            "children": [
              "IPY_MODEL_4e93a70a73674b8488c234ffd3bba0b9",
              "IPY_MODEL_fa3bd738d5404bde9aa4956bc59bf793",
              "IPY_MODEL_79b978cfbacf469396ac30c132b82776"
            ],
            "layout": "IPY_MODEL_698d07085db748c7a14be4cf1e4a7b60"
          }
        },
        "4e93a70a73674b8488c234ffd3bba0b9": {
          "model_module": "@jupyter-widgets/controls",
          "model_name": "HTMLModel",
          "model_module_version": "1.5.0",
          "state": {
            "_dom_classes": [],
            "_model_module": "@jupyter-widgets/controls",
            "_model_module_version": "1.5.0",
            "_model_name": "HTMLModel",
            "_view_count": null,
            "_view_module": "@jupyter-widgets/controls",
            "_view_module_version": "1.5.0",
            "_view_name": "HTMLView",
            "description": "",
            "description_tooltip": null,
            "layout": "IPY_MODEL_94bbdf223b4c4f47a805824dd3e64c22",
            "placeholder": "​",
            "style": "IPY_MODEL_f37a62887f674429adfc65a8ef46e341",
            "value": "100%"
          }
        },
        "fa3bd738d5404bde9aa4956bc59bf793": {
          "model_module": "@jupyter-widgets/controls",
          "model_name": "FloatProgressModel",
          "model_module_version": "1.5.0",
          "state": {
            "_dom_classes": [],
            "_model_module": "@jupyter-widgets/controls",
            "_model_module_version": "1.5.0",
            "_model_name": "FloatProgressModel",
            "_view_count": null,
            "_view_module": "@jupyter-widgets/controls",
            "_view_module_version": "1.5.0",
            "_view_name": "ProgressView",
            "bar_style": "success",
            "description": "",
            "description_tooltip": null,
            "layout": "IPY_MODEL_db9afb9e647f4162a1d1945b7a76daa1",
            "max": 2,
            "min": 0,
            "orientation": "horizontal",
            "style": "IPY_MODEL_6cf4d6d5222d460aad5e265bb4fc25a0",
            "value": 2
          }
        },
        "79b978cfbacf469396ac30c132b82776": {
          "model_module": "@jupyter-widgets/controls",
          "model_name": "HTMLModel",
          "model_module_version": "1.5.0",
          "state": {
            "_dom_classes": [],
            "_model_module": "@jupyter-widgets/controls",
            "_model_module_version": "1.5.0",
            "_model_name": "HTMLModel",
            "_view_count": null,
            "_view_module": "@jupyter-widgets/controls",
            "_view_module_version": "1.5.0",
            "_view_name": "HTMLView",
            "description": "",
            "description_tooltip": null,
            "layout": "IPY_MODEL_e7edea03a9ec447e962eef8fff13fcc0",
            "placeholder": "​",
            "style": "IPY_MODEL_675bb24f6d994805979f12ad917dd022",
            "value": " 2/2 [00:00&lt;00:00, 32.31it/s]"
          }
        },
        "698d07085db748c7a14be4cf1e4a7b60": {
          "model_module": "@jupyter-widgets/base",
          "model_name": "LayoutModel",
          "model_module_version": "1.2.0",
          "state": {
            "_model_module": "@jupyter-widgets/base",
            "_model_module_version": "1.2.0",
            "_model_name": "LayoutModel",
            "_view_count": null,
            "_view_module": "@jupyter-widgets/base",
            "_view_module_version": "1.2.0",
            "_view_name": "LayoutView",
            "align_content": null,
            "align_items": null,
            "align_self": null,
            "border": null,
            "bottom": null,
            "display": null,
            "flex": null,
            "flex_flow": null,
            "grid_area": null,
            "grid_auto_columns": null,
            "grid_auto_flow": null,
            "grid_auto_rows": null,
            "grid_column": null,
            "grid_gap": null,
            "grid_row": null,
            "grid_template_areas": null,
            "grid_template_columns": null,
            "grid_template_rows": null,
            "height": null,
            "justify_content": null,
            "justify_items": null,
            "left": null,
            "margin": null,
            "max_height": null,
            "max_width": null,
            "min_height": null,
            "min_width": null,
            "object_fit": null,
            "object_position": null,
            "order": null,
            "overflow": null,
            "overflow_x": null,
            "overflow_y": null,
            "padding": null,
            "right": null,
            "top": null,
            "visibility": null,
            "width": null
          }
        },
        "94bbdf223b4c4f47a805824dd3e64c22": {
          "model_module": "@jupyter-widgets/base",
          "model_name": "LayoutModel",
          "model_module_version": "1.2.0",
          "state": {
            "_model_module": "@jupyter-widgets/base",
            "_model_module_version": "1.2.0",
            "_model_name": "LayoutModel",
            "_view_count": null,
            "_view_module": "@jupyter-widgets/base",
            "_view_module_version": "1.2.0",
            "_view_name": "LayoutView",
            "align_content": null,
            "align_items": null,
            "align_self": null,
            "border": null,
            "bottom": null,
            "display": null,
            "flex": null,
            "flex_flow": null,
            "grid_area": null,
            "grid_auto_columns": null,
            "grid_auto_flow": null,
            "grid_auto_rows": null,
            "grid_column": null,
            "grid_gap": null,
            "grid_row": null,
            "grid_template_areas": null,
            "grid_template_columns": null,
            "grid_template_rows": null,
            "height": null,
            "justify_content": null,
            "justify_items": null,
            "left": null,
            "margin": null,
            "max_height": null,
            "max_width": null,
            "min_height": null,
            "min_width": null,
            "object_fit": null,
            "object_position": null,
            "order": null,
            "overflow": null,
            "overflow_x": null,
            "overflow_y": null,
            "padding": null,
            "right": null,
            "top": null,
            "visibility": null,
            "width": null
          }
        },
        "f37a62887f674429adfc65a8ef46e341": {
          "model_module": "@jupyter-widgets/controls",
          "model_name": "DescriptionStyleModel",
          "model_module_version": "1.5.0",
          "state": {
            "_model_module": "@jupyter-widgets/controls",
            "_model_module_version": "1.5.0",
            "_model_name": "DescriptionStyleModel",
            "_view_count": null,
            "_view_module": "@jupyter-widgets/base",
            "_view_module_version": "1.2.0",
            "_view_name": "StyleView",
            "description_width": ""
          }
        },
        "db9afb9e647f4162a1d1945b7a76daa1": {
          "model_module": "@jupyter-widgets/base",
          "model_name": "LayoutModel",
          "model_module_version": "1.2.0",
          "state": {
            "_model_module": "@jupyter-widgets/base",
            "_model_module_version": "1.2.0",
            "_model_name": "LayoutModel",
            "_view_count": null,
            "_view_module": "@jupyter-widgets/base",
            "_view_module_version": "1.2.0",
            "_view_name": "LayoutView",
            "align_content": null,
            "align_items": null,
            "align_self": null,
            "border": null,
            "bottom": null,
            "display": null,
            "flex": null,
            "flex_flow": null,
            "grid_area": null,
            "grid_auto_columns": null,
            "grid_auto_flow": null,
            "grid_auto_rows": null,
            "grid_column": null,
            "grid_gap": null,
            "grid_row": null,
            "grid_template_areas": null,
            "grid_template_columns": null,
            "grid_template_rows": null,
            "height": null,
            "justify_content": null,
            "justify_items": null,
            "left": null,
            "margin": null,
            "max_height": null,
            "max_width": null,
            "min_height": null,
            "min_width": null,
            "object_fit": null,
            "object_position": null,
            "order": null,
            "overflow": null,
            "overflow_x": null,
            "overflow_y": null,
            "padding": null,
            "right": null,
            "top": null,
            "visibility": null,
            "width": null
          }
        },
        "6cf4d6d5222d460aad5e265bb4fc25a0": {
          "model_module": "@jupyter-widgets/controls",
          "model_name": "ProgressStyleModel",
          "model_module_version": "1.5.0",
          "state": {
            "_model_module": "@jupyter-widgets/controls",
            "_model_module_version": "1.5.0",
            "_model_name": "ProgressStyleModel",
            "_view_count": null,
            "_view_module": "@jupyter-widgets/base",
            "_view_module_version": "1.2.0",
            "_view_name": "StyleView",
            "bar_color": null,
            "description_width": ""
          }
        },
        "e7edea03a9ec447e962eef8fff13fcc0": {
          "model_module": "@jupyter-widgets/base",
          "model_name": "LayoutModel",
          "model_module_version": "1.2.0",
          "state": {
            "_model_module": "@jupyter-widgets/base",
            "_model_module_version": "1.2.0",
            "_model_name": "LayoutModel",
            "_view_count": null,
            "_view_module": "@jupyter-widgets/base",
            "_view_module_version": "1.2.0",
            "_view_name": "LayoutView",
            "align_content": null,
            "align_items": null,
            "align_self": null,
            "border": null,
            "bottom": null,
            "display": null,
            "flex": null,
            "flex_flow": null,
            "grid_area": null,
            "grid_auto_columns": null,
            "grid_auto_flow": null,
            "grid_auto_rows": null,
            "grid_column": null,
            "grid_gap": null,
            "grid_row": null,
            "grid_template_areas": null,
            "grid_template_columns": null,
            "grid_template_rows": null,
            "height": null,
            "justify_content": null,
            "justify_items": null,
            "left": null,
            "margin": null,
            "max_height": null,
            "max_width": null,
            "min_height": null,
            "min_width": null,
            "object_fit": null,
            "object_position": null,
            "order": null,
            "overflow": null,
            "overflow_x": null,
            "overflow_y": null,
            "padding": null,
            "right": null,
            "top": null,
            "visibility": null,
            "width": null
          }
        },
        "675bb24f6d994805979f12ad917dd022": {
          "model_module": "@jupyter-widgets/controls",
          "model_name": "DescriptionStyleModel",
          "model_module_version": "1.5.0",
          "state": {
            "_model_module": "@jupyter-widgets/controls",
            "_model_module_version": "1.5.0",
            "_model_name": "DescriptionStyleModel",
            "_view_count": null,
            "_view_module": "@jupyter-widgets/base",
            "_view_module_version": "1.2.0",
            "_view_name": "StyleView",
            "description_width": ""
          }
        }
      }
    },
    "accelerator": "GPU"
  },
  "cells": [
    {
      "cell_type": "markdown",
      "metadata": {
        "id": "eBpjBBZc6IvA"
      },
      "source": [
        "# Fatima Fellowship Quick Coding Challenge (Pick 1)\n",
        "\n",
        "Thank you for applying to the Fatima Fellowship. To help us select the Fellows and assess your ability to do machine learning research, we are asking that you complete a short coding challenge. Please pick **1 of these 5** coding challenges, whichever is most aligned with your interests. \n",
        "\n",
        "**Due date: 1 week**\n",
        "\n",
        "**How to submit**: Please make a copy of this colab notebook, add your code and results, and submit your colab notebook to the submission link below. If you have never used a colab notebook, [check out this video](https://www.youtube.com/watch?v=i-HnvsehuSw).\n",
        "\n",
        "**Submission link**: https://airtable.com/shrXy3QKSsO2yALd3"
      ]
    },
    {
      "cell_type": "markdown",
      "metadata": {
        "id": "braBzmRpMe7_"
      },
      "source": [
        "# 1. Deep Learning for Vision"
      ]
    },
    {
      "cell_type": "markdown",
      "metadata": {
        "id": "1IWw-NZf5WfF"
      },
      "source": [
        "**Upside down detector**: Train a model to detect if images are upside down\n",
        "\n",
        "* Pick a dataset of natural images (we suggest looking at datasets on the [Hugging Face Hub](https://huggingface.co/datasets?task_categories=task_categories:image-classification&sort=downloads))\n",
        "* Synthetically turn some of images upside down. Create a training and test set.\n",
        "* Build a neural network (using Tensorflow, PyTorch, or any framework you like)\n",
        "* Train it to classify image orientation until a reasonable accuracy is reached\n",
        "* [Upload the the model to the Hugging Face Hub](https://huggingface.co/docs/hub/adding-a-model), and add a link to your model below.\n",
        "* Look at some of the images that were classified incorrectly. Please explain what you might do to improve your model's performance on these images in the future (you do not need to impelement these suggestions)\n",
        "\n",
        "**Submission instructions**: Please write your code below and include some examples of images that were classified"
      ]
    },
    {
      "cell_type": "code",
      "source": [
        "### WRITE YOUR CODE TO TRAIN THE MODEL HERE"
      ],
      "metadata": {
        "id": "K2GJaYBpw91T"
      },
      "execution_count": null,
      "outputs": []
    },
    {
      "cell_type": "markdown",
      "source": [
        "**Hugging Face Hub Link:**\n",
        "\n",
        "- Link: https://huggingface.co/sameerhashmi36/upside_down_model_using_resnet/tree/main\n",
        "\n",
        "**Final Model Link:**\n",
        " \n",
        "  - Model Link: https://huggingface.co/sameerhashmi36/upside_down_model_using_resnet/commit/32dee3fae3b16a88c8f3347b0bdaee0653448841"
      ],
      "metadata": {
        "id": "0AwYzAzvCT8D"
      }
    },
    {
      "cell_type": "markdown",
      "source": [
        "### Import libraries"
      ],
      "metadata": {
        "id": "qhP2bjYNNDcW"
      }
    },
    {
      "cell_type": "code",
      "source": [
        "from collections import defaultdict\n",
        "import copy\n",
        "import random\n",
        "import os\n",
        "import shutil\n",
        "from urllib.request import urlretrieve\n",
        "import albumentations as A\n",
        "import cv2\n",
        "import matplotlib.pyplot as plt\n",
        "from tqdm import tqdm\n",
        "import torch\n",
        "import torch.backends.cudnn as cudnn\n",
        "import torch.nn as nn\n",
        "import torch.optim\n",
        "from torch.utils.data import Dataset, DataLoader\n",
        "import torchvision.models as models\n",
        "from torchvision import transforms"
      ],
      "metadata": {
        "id": "AKz4vB4tAtQq"
      },
      "execution_count": null,
      "outputs": []
    },
    {
      "cell_type": "code",
      "source": [
        "from albumentations.pytorch import ToTensor"
      ],
      "metadata": {
        "id": "xKf6y2J2AsS5"
      },
      "execution_count": null,
      "outputs": []
    },
    {
      "cell_type": "code",
      "source": [
        ""
      ],
      "metadata": {
        "id": "--KeeyOXLRr8"
      },
      "execution_count": null,
      "outputs": []
    },
    {
      "cell_type": "code",
      "source": [
        "import ssl\n",
        "ssl._create_default_https_context = ssl._create_unverified_context"
      ],
      "metadata": {
        "id": "KAxw09lerxrn"
      },
      "execution_count": null,
      "outputs": []
    },
    {
      "cell_type": "code",
      "source": [
        "cudnn.benchmark = True"
      ],
      "metadata": {
        "id": "jqNl280PFUua"
      },
      "execution_count": null,
      "outputs": []
    },
    {
      "cell_type": "code",
      "source": [
        ""
      ],
      "metadata": {
        "id": "WJ0lcq59FVrO"
      },
      "execution_count": null,
      "outputs": []
    },
    {
      "cell_type": "code",
      "source": [
        "from google.colab import drive\n",
        "drive.mount('/content/drive')"
      ],
      "metadata": {
        "colab": {
          "base_uri": "https://localhost:8080/"
        },
        "id": "wCVhAjmSFypB",
        "outputId": "0bf79a97-3c9f-456b-9a8e-0181619308c5"
      },
      "execution_count": null,
      "outputs": [
        {
          "output_type": "stream",
          "name": "stdout",
          "text": [
            "Mounted at /content/drive\n"
          ]
        }
      ]
    },
    {
      "cell_type": "code",
      "source": [
        "cd content/drive/MyDrive/upside_down/"
      ],
      "metadata": {
        "colab": {
          "base_uri": "https://localhost:8080/"
        },
        "id": "ico5gtqhGePb",
        "outputId": "507e0485-2ce1-46bb-9864-58cd279bd18b"
      },
      "execution_count": null,
      "outputs": [
        {
          "output_type": "stream",
          "name": "stdout",
          "text": [
            "[Errno 2] No such file or directory: 'content/drive/MyDrive/upside_down/'\n",
            "/content\n"
          ]
        }
      ]
    },
    {
      "cell_type": "code",
      "source": [
        ""
      ],
      "metadata": {
        "id": "pLGY9w_48fcc"
      },
      "execution_count": null,
      "outputs": []
    },
    {
      "cell_type": "code",
      "source": [
        "!pip install datasets"
      ],
      "metadata": {
        "id": "7absf_PbHoNi",
        "colab": {
          "base_uri": "https://localhost:8080/",
          "height": 1000
        },
        "outputId": "24a8b2e9-bad8-4a41-dcba-d0852e6fd370"
      },
      "execution_count": null,
      "outputs": [
        {
          "output_type": "stream",
          "name": "stdout",
          "text": [
            "Collecting datasets\n",
            "  Downloading datasets-2.0.0-py3-none-any.whl (325 kB)\n",
            "\u001b[?25l\r\u001b[K     |█                               | 10 kB 17.8 MB/s eta 0:00:01\r\u001b[K     |██                              | 20 kB 10.8 MB/s eta 0:00:01\r\u001b[K     |███                             | 30 kB 9.0 MB/s eta 0:00:01\r\u001b[K     |████                            | 40 kB 8.1 MB/s eta 0:00:01\r\u001b[K     |█████                           | 51 kB 4.4 MB/s eta 0:00:01\r\u001b[K     |██████                          | 61 kB 5.2 MB/s eta 0:00:01\r\u001b[K     |███████                         | 71 kB 5.5 MB/s eta 0:00:01\r\u001b[K     |████████                        | 81 kB 5.6 MB/s eta 0:00:01\r\u001b[K     |█████████                       | 92 kB 6.3 MB/s eta 0:00:01\r\u001b[K     |██████████                      | 102 kB 5.3 MB/s eta 0:00:01\r\u001b[K     |███████████                     | 112 kB 5.3 MB/s eta 0:00:01\r\u001b[K     |████████████                    | 122 kB 5.3 MB/s eta 0:00:01\r\u001b[K     |█████████████                   | 133 kB 5.3 MB/s eta 0:00:01\r\u001b[K     |██████████████                  | 143 kB 5.3 MB/s eta 0:00:01\r\u001b[K     |███████████████                 | 153 kB 5.3 MB/s eta 0:00:01\r\u001b[K     |████████████████                | 163 kB 5.3 MB/s eta 0:00:01\r\u001b[K     |█████████████████▏              | 174 kB 5.3 MB/s eta 0:00:01\r\u001b[K     |██████████████████▏             | 184 kB 5.3 MB/s eta 0:00:01\r\u001b[K     |███████████████████▏            | 194 kB 5.3 MB/s eta 0:00:01\r\u001b[K     |████████████████████▏           | 204 kB 5.3 MB/s eta 0:00:01\r\u001b[K     |█████████████████████▏          | 215 kB 5.3 MB/s eta 0:00:01\r\u001b[K     |██████████████████████▏         | 225 kB 5.3 MB/s eta 0:00:01\r\u001b[K     |███████████████████████▏        | 235 kB 5.3 MB/s eta 0:00:01\r\u001b[K     |████████████████████████▏       | 245 kB 5.3 MB/s eta 0:00:01\r\u001b[K     |█████████████████████████▏      | 256 kB 5.3 MB/s eta 0:00:01\r\u001b[K     |██████████████████████████▏     | 266 kB 5.3 MB/s eta 0:00:01\r\u001b[K     |███████████████████████████▏    | 276 kB 5.3 MB/s eta 0:00:01\r\u001b[K     |████████████████████████████▏   | 286 kB 5.3 MB/s eta 0:00:01\r\u001b[K     |█████████████████████████████▏  | 296 kB 5.3 MB/s eta 0:00:01\r\u001b[K     |██████████████████████████████▏ | 307 kB 5.3 MB/s eta 0:00:01\r\u001b[K     |███████████████████████████████▏| 317 kB 5.3 MB/s eta 0:00:01\r\u001b[K     |████████████████████████████████| 325 kB 5.3 MB/s \n",
            "\u001b[?25hRequirement already satisfied: multiprocess in /usr/local/lib/python3.7/dist-packages (from datasets) (0.70.12.2)\n",
            "Collecting responses<0.19\n",
            "  Downloading responses-0.18.0-py3-none-any.whl (38 kB)\n",
            "Collecting fsspec[http]>=2021.05.0\n",
            "  Downloading fsspec-2022.3.0-py3-none-any.whl (136 kB)\n",
            "\u001b[K     |████████████████████████████████| 136 kB 44.6 MB/s \n",
            "\u001b[?25hCollecting huggingface-hub<1.0.0,>=0.1.0\n",
            "  Downloading huggingface_hub-0.4.0-py3-none-any.whl (67 kB)\n",
            "\u001b[K     |████████████████████████████████| 67 kB 5.3 MB/s \n",
            "\u001b[?25hRequirement already satisfied: requests>=2.19.0 in /usr/local/lib/python3.7/dist-packages (from datasets) (2.23.0)\n",
            "Collecting xxhash\n",
            "  Downloading xxhash-3.0.0-cp37-cp37m-manylinux_2_17_x86_64.manylinux2014_x86_64.whl (212 kB)\n",
            "\u001b[K     |████████████████████████████████| 212 kB 45.8 MB/s \n",
            "\u001b[?25hRequirement already satisfied: numpy>=1.17 in /usr/local/lib/python3.7/dist-packages (from datasets) (1.21.5)\n",
            "Collecting aiohttp\n",
            "  Downloading aiohttp-3.8.1-cp37-cp37m-manylinux_2_5_x86_64.manylinux1_x86_64.manylinux_2_12_x86_64.manylinux2010_x86_64.whl (1.1 MB)\n",
            "\u001b[K     |████████████████████████████████| 1.1 MB 31.6 MB/s \n",
            "\u001b[?25hRequirement already satisfied: packaging in /usr/local/lib/python3.7/dist-packages (from datasets) (21.3)\n",
            "Requirement already satisfied: importlib-metadata in /usr/local/lib/python3.7/dist-packages (from datasets) (4.11.3)\n",
            "Requirement already satisfied: dill in /usr/local/lib/python3.7/dist-packages (from datasets) (0.3.4)\n",
            "Requirement already satisfied: pandas in /usr/local/lib/python3.7/dist-packages (from datasets) (1.3.5)\n",
            "Requirement already satisfied: tqdm>=4.62.1 in /usr/local/lib/python3.7/dist-packages (from datasets) (4.63.0)\n",
            "Requirement already satisfied: pyarrow>=5.0.0 in /usr/local/lib/python3.7/dist-packages (from datasets) (6.0.1)\n",
            "Requirement already satisfied: typing-extensions>=3.7.4.3 in /usr/local/lib/python3.7/dist-packages (from huggingface-hub<1.0.0,>=0.1.0->datasets) (3.10.0.2)\n",
            "Requirement already satisfied: pyyaml in /usr/local/lib/python3.7/dist-packages (from huggingface-hub<1.0.0,>=0.1.0->datasets) (3.13)\n",
            "Requirement already satisfied: filelock in /usr/local/lib/python3.7/dist-packages (from huggingface-hub<1.0.0,>=0.1.0->datasets) (3.6.0)\n",
            "Requirement already satisfied: pyparsing!=3.0.5,>=2.0.2 in /usr/local/lib/python3.7/dist-packages (from packaging->datasets) (3.0.7)\n",
            "Requirement already satisfied: urllib3!=1.25.0,!=1.25.1,<1.26,>=1.21.1 in /usr/local/lib/python3.7/dist-packages (from requests>=2.19.0->datasets) (1.24.3)\n",
            "Requirement already satisfied: certifi>=2017.4.17 in /usr/local/lib/python3.7/dist-packages (from requests>=2.19.0->datasets) (2021.10.8)\n",
            "Requirement already satisfied: idna<3,>=2.5 in /usr/local/lib/python3.7/dist-packages (from requests>=2.19.0->datasets) (2.10)\n",
            "Requirement already satisfied: chardet<4,>=3.0.2 in /usr/local/lib/python3.7/dist-packages (from requests>=2.19.0->datasets) (3.0.4)\n",
            "Collecting urllib3!=1.25.0,!=1.25.1,<1.26,>=1.21.1\n",
            "  Downloading urllib3-1.25.11-py2.py3-none-any.whl (127 kB)\n",
            "\u001b[K     |████████████████████████████████| 127 kB 47.5 MB/s \n",
            "\u001b[?25hCollecting multidict<7.0,>=4.5\n",
            "  Downloading multidict-6.0.2-cp37-cp37m-manylinux_2_17_x86_64.manylinux2014_x86_64.whl (94 kB)\n",
            "\u001b[K     |████████████████████████████████| 94 kB 3.3 MB/s \n",
            "\u001b[?25hCollecting async-timeout<5.0,>=4.0.0a3\n",
            "  Downloading async_timeout-4.0.2-py3-none-any.whl (5.8 kB)\n",
            "Collecting yarl<2.0,>=1.0\n",
            "  Downloading yarl-1.7.2-cp37-cp37m-manylinux_2_5_x86_64.manylinux1_x86_64.manylinux_2_12_x86_64.manylinux2010_x86_64.whl (271 kB)\n",
            "\u001b[K     |████████████████████████████████| 271 kB 45.7 MB/s \n",
            "\u001b[?25hCollecting aiosignal>=1.1.2\n",
            "  Downloading aiosignal-1.2.0-py3-none-any.whl (8.2 kB)\n",
            "Collecting frozenlist>=1.1.1\n",
            "  Downloading frozenlist-1.3.0-cp37-cp37m-manylinux_2_5_x86_64.manylinux1_x86_64.manylinux_2_17_x86_64.manylinux2014_x86_64.whl (144 kB)\n",
            "\u001b[K     |████████████████████████████████| 144 kB 42.1 MB/s \n",
            "\u001b[?25hRequirement already satisfied: attrs>=17.3.0 in /usr/local/lib/python3.7/dist-packages (from aiohttp->datasets) (21.4.0)\n",
            "Collecting asynctest==0.13.0\n",
            "  Downloading asynctest-0.13.0-py3-none-any.whl (26 kB)\n",
            "Requirement already satisfied: charset-normalizer<3.0,>=2.0 in /usr/local/lib/python3.7/dist-packages (from aiohttp->datasets) (2.0.12)\n",
            "Requirement already satisfied: zipp>=0.5 in /usr/local/lib/python3.7/dist-packages (from importlib-metadata->datasets) (3.7.0)\n",
            "Requirement already satisfied: python-dateutil>=2.7.3 in /usr/local/lib/python3.7/dist-packages (from pandas->datasets) (2.8.2)\n",
            "Requirement already satisfied: pytz>=2017.3 in /usr/local/lib/python3.7/dist-packages (from pandas->datasets) (2018.9)\n",
            "Requirement already satisfied: six>=1.5 in /usr/local/lib/python3.7/dist-packages (from python-dateutil>=2.7.3->pandas->datasets) (1.15.0)\n",
            "Installing collected packages: multidict, frozenlist, yarl, urllib3, asynctest, async-timeout, aiosignal, fsspec, aiohttp, xxhash, responses, huggingface-hub, datasets\n",
            "  Attempting uninstall: urllib3\n",
            "    Found existing installation: urllib3 1.24.3\n",
            "    Uninstalling urllib3-1.24.3:\n",
            "      Successfully uninstalled urllib3-1.24.3\n",
            "\u001b[31mERROR: pip's dependency resolver does not currently take into account all the packages that are installed. This behaviour is the source of the following dependency conflicts.\n",
            "datascience 0.10.6 requires folium==0.2.1, but you have folium 0.8.3 which is incompatible.\u001b[0m\n",
            "Successfully installed aiohttp-3.8.1 aiosignal-1.2.0 async-timeout-4.0.2 asynctest-0.13.0 datasets-2.0.0 frozenlist-1.3.0 fsspec-2022.3.0 huggingface-hub-0.4.0 multidict-6.0.2 responses-0.18.0 urllib3-1.25.11 xxhash-3.0.0 yarl-1.7.2\n"
          ]
        },
        {
          "output_type": "display_data",
          "data": {
            "application/vnd.colab-display-data+json": {
              "pip_warning": {
                "packages": [
                  "urllib3"
                ]
              }
            }
          },
          "metadata": {}
        }
      ]
    },
    {
      "cell_type": "code",
      "source": [
        "from datasets import load_dataset\n",
        "\n",
        "dataset = load_dataset(\"cifar100\")"
      ],
      "metadata": {
        "colab": {
          "base_uri": "https://localhost:8080/",
          "height": 202,
          "referenced_widgets": [
            "ed9ba56394d9402a9d89a122e0d5dabb",
            "8674edd280994ceeaea9cb21169f5d76",
            "a4246c1308aa4639932165f9157a84b8",
            "9ec174568d3144f39ec4b0a2594ff016",
            "da903d5fe20146b1b432c63ea1e0182c",
            "4dd852f57e5841b3936ab20bd6bc9dbf",
            "71665868326b4312b28f7da308fbb5fe",
            "e69e2b3bca96487ab2e0804782008859",
            "963e3fe081114bc687dab930febd1806",
            "4e18cfd237f04929ac9c75f3d5502fdc",
            "ecb65eb9133e41b5adb5a23a01d50839",
            "5cd206c754c840f881af962288d8d355",
            "bbdebccfd9b34fdea313989e8928b812",
            "8e04b9d704764dcab06c0cfd6ec51927",
            "3df100777b7e4b17b9490c581efa33ef",
            "9cc868fc6e7d4e1aba27b2285de86f31",
            "46175f5dab7a4d6aadedf9da4e330300",
            "3fd7e0ef8775470f81e71b19d7ac41a8",
            "367d443959c541beae9169e5af7d3f14",
            "bc765e4685544ddbac708f06f44461cb",
            "0beef7380b844c7da7290868b8bc72e1",
            "4bbd52e835e44f99bd2804889545c5ad",
            "f921a56ca40c46e2b0650894fd3376c3",
            "c607de6c9102464989a7718b84e0cbb6",
            "6f1547fcf5c6493fb778e7775e7f0b33",
            "3329349545af4484bb8a3fb6c9e8c8a6",
            "4b7a14ecf662438cbbcb6cdc90ae73fc",
            "fda2370321404ee0a5c6064c171bcc0a",
            "ea6eaaee723d44fdaa6662fae77703b7",
            "b2d8149533ac4f2f8e061dba38f7d8e2",
            "ccec5655c2f34ff9b6ffa75e4b0b3d80",
            "353d8d4d9f6f4aa1899e93978bf94aea",
            "23f3b6c86266424081a33e10f03bb38f",
            "388ba79fa56d4cf38d920d55436a53df",
            "6fc721bb4f8748f1bb1db31cbe5ca3e8",
            "bf49bf8ff4294f0a90194d363a793fd1",
            "470ecafc1aa849139fbd60ce01360652",
            "0a394bde8a1c413aa08d4f6b72bf488e",
            "96e8f7e8a56349f697ca7c283c7ca6dc",
            "40db65ef48204bd3a8cbcc1b28f32943",
            "4443f2fe46134a55b47af274c5b39df1",
            "2552c0591a724e4ca9fe72107fd01e6e",
            "74f3d47151e84484a2aba65ebf68e6a2",
            "206a3d5821b24833959cd98f77ceed98",
            "093e9eb44ae548a7ac9a5ace8ce31a0f",
            "cad0b0c7afe5417287622224fe5df8c5",
            "d2c03dd4778447bd88b0a4aa6a8531cd",
            "9f143ba9ea614da8a765836c8680462e",
            "42b3854d82d440cdb61fd63115487bd5",
            "e2dbcb1d41cb4163ac73e3e873b423e5",
            "a9685dfe3e174d55accbdf6e711afdc7",
            "235b33ebcfa146b2807cd2b468969c49",
            "c973ccc2ae6d4a8e84b306c4b73c17fd",
            "dd0246e6d51d4efe9c87e168e4b85c27",
            "131bcaaf74554d3182f13e6e855f49cd",
            "8c6fe2c41a934a509efc7db1550f953b",
            "fc5c764d1a8d4275938b4fc77deedd14",
            "39aafe733a754c84b21474a4bdeb81c5",
            "a311769fe5ca4f818a0723820c64734e",
            "1acc8c5364474580a60775b51a623c0a",
            "81a31126f94d4c0384ce340661284503",
            "f7205ebf655646818adbe24abcdb2b47",
            "7741b1673e2642e0b5d6e652e75157b0",
            "f84949a02d8a423c94d7c885bcec76fd",
            "1dbc9daf25f84f63bc56ca111b93dd09",
            "5d7049a85ca54277a127df4c05e40eac"
          ]
        },
        "id": "_sJJgoewGmmD",
        "outputId": "ec8c7b7d-22df-41c3-ea41-fb1533fecc8a"
      },
      "execution_count": null,
      "outputs": [
        {
          "output_type": "display_data",
          "data": {
            "text/plain": [
              "Downloading builder script:   0%|          | 0.00/2.19k [00:00<?, ?B/s]"
            ],
            "application/vnd.jupyter.widget-view+json": {
              "version_major": 2,
              "version_minor": 0,
              "model_id": "ed9ba56394d9402a9d89a122e0d5dabb"
            }
          },
          "metadata": {}
        },
        {
          "output_type": "display_data",
          "data": {
            "text/plain": [
              "Downloading metadata:   0%|          | 0.00/1.44k [00:00<?, ?B/s]"
            ],
            "application/vnd.jupyter.widget-view+json": {
              "version_major": 2,
              "version_minor": 0,
              "model_id": "5cd206c754c840f881af962288d8d355"
            }
          },
          "metadata": {}
        },
        {
          "output_type": "stream",
          "name": "stdout",
          "text": [
            "Downloading and preparing dataset cifar100/cifar100 (download: 161.17 MiB, generated: 129.09 MiB, post-processed: Unknown size, total: 290.26 MiB) to /root/.cache/huggingface/datasets/cifar100/cifar100/1.0.0/f365c8b725c23e8f0f8d725c3641234d9331cd2f62919d1381d1baa5b3ba3142...\n"
          ]
        },
        {
          "output_type": "display_data",
          "data": {
            "text/plain": [
              "Downloading data:   0%|          | 0.00/169M [00:00<?, ?B/s]"
            ],
            "application/vnd.jupyter.widget-view+json": {
              "version_major": 2,
              "version_minor": 0,
              "model_id": "f921a56ca40c46e2b0650894fd3376c3"
            }
          },
          "metadata": {}
        },
        {
          "output_type": "display_data",
          "data": {
            "text/plain": [
              "Generating train split:   0%|          | 0/50000 [00:00<?, ? examples/s]"
            ],
            "application/vnd.jupyter.widget-view+json": {
              "version_major": 2,
              "version_minor": 0,
              "model_id": "388ba79fa56d4cf38d920d55436a53df"
            }
          },
          "metadata": {}
        },
        {
          "output_type": "display_data",
          "data": {
            "text/plain": [
              "Generating test split:   0%|          | 0/10000 [00:00<?, ? examples/s]"
            ],
            "application/vnd.jupyter.widget-view+json": {
              "version_major": 2,
              "version_minor": 0,
              "model_id": "093e9eb44ae548a7ac9a5ace8ce31a0f"
            }
          },
          "metadata": {}
        },
        {
          "output_type": "stream",
          "name": "stdout",
          "text": [
            "Dataset cifar100 downloaded and prepared to /root/.cache/huggingface/datasets/cifar100/cifar100/1.0.0/f365c8b725c23e8f0f8d725c3641234d9331cd2f62919d1381d1baa5b3ba3142. Subsequent calls will reuse this data.\n"
          ]
        },
        {
          "output_type": "display_data",
          "data": {
            "text/plain": [
              "  0%|          | 0/2 [00:00<?, ?it/s]"
            ],
            "application/vnd.jupyter.widget-view+json": {
              "version_major": 2,
              "version_minor": 0,
              "model_id": "8c6fe2c41a934a509efc7db1550f953b"
            }
          },
          "metadata": {}
        }
      ]
    },
    {
      "cell_type": "code",
      "source": [
        "# dataset.__dir__()"
      ],
      "metadata": {
        "id": "5SfNmuaCISVk"
      },
      "execution_count": null,
      "outputs": []
    },
    {
      "cell_type": "code",
      "source": [
        "dataset"
      ],
      "metadata": {
        "colab": {
          "base_uri": "https://localhost:8080/"
        },
        "id": "7pZY2qVQIXUt",
        "outputId": "ddd399ec-e0bc-43b0-a73a-fae0e0d30b69"
      },
      "execution_count": null,
      "outputs": [
        {
          "output_type": "execute_result",
          "data": {
            "text/plain": [
              "DatasetDict({\n",
              "    train: Dataset({\n",
              "        features: ['img', 'fine_label', 'coarse_label'],\n",
              "        num_rows: 50000\n",
              "    })\n",
              "    test: Dataset({\n",
              "        features: ['img', 'fine_label', 'coarse_label'],\n",
              "        num_rows: 10000\n",
              "    })\n",
              "})"
            ]
          },
          "metadata": {},
          "execution_count": 12
        }
      ]
    },
    {
      "cell_type": "markdown",
      "source": [
        "### Deviding Images for Upside down"
      ],
      "metadata": {
        "id": "vAwAWC8qXCfK"
      }
    },
    {
      "cell_type": "code",
      "source": [
        "from PIL import Image"
      ],
      "metadata": {
        "id": "b8LU_eVEL0Dy"
      },
      "execution_count": null,
      "outputs": []
    },
    {
      "cell_type": "code",
      "source": [
        "train_sample = dataset[\"train\"]"
      ],
      "metadata": {
        "id": "qwt-QSM-Jd2-"
      },
      "execution_count": null,
      "outputs": []
    },
    {
      "cell_type": "code",
      "source": [
        "train_sample"
      ],
      "metadata": {
        "colab": {
          "base_uri": "https://localhost:8080/"
        },
        "id": "G6cTPalDKE9T",
        "outputId": "f33c2af9-b9ff-4b46-9e52-3a519096b40e"
      },
      "execution_count": null,
      "outputs": [
        {
          "output_type": "execute_result",
          "data": {
            "text/plain": [
              "Dataset({\n",
              "    features: ['img', 'fine_label', 'coarse_label'],\n",
              "    num_rows: 50000\n",
              "})"
            ]
          },
          "metadata": {},
          "execution_count": 15
        }
      ]
    },
    {
      "cell_type": "code",
      "source": [
        "test_sample = dataset[\"test\"]"
      ],
      "metadata": {
        "id": "yalTyOQAK6Ks"
      },
      "execution_count": null,
      "outputs": []
    },
    {
      "cell_type": "code",
      "source": [
        "test_sample[0]['fine_label']"
      ],
      "metadata": {
        "colab": {
          "base_uri": "https://localhost:8080/"
        },
        "id": "XtTzPtgKLWuT",
        "outputId": "9f6089f1-1b82-4396-d7f7-438f2f630d52"
      },
      "execution_count": null,
      "outputs": [
        {
          "output_type": "execute_result",
          "data": {
            "text/plain": [
              "49"
            ]
          },
          "metadata": {},
          "execution_count": 17
        }
      ]
    },
    {
      "cell_type": "code",
      "source": [
        "len(train_sample)"
      ],
      "metadata": {
        "colab": {
          "base_uri": "https://localhost:8080/"
        },
        "id": "V8O4MimMgpm1",
        "outputId": "8465c593-9b6f-4081-e001-3245978ae106"
      },
      "execution_count": null,
      "outputs": [
        {
          "output_type": "execute_result",
          "data": {
            "text/plain": [
              "50000"
            ]
          },
          "metadata": {},
          "execution_count": 18
        }
      ]
    },
    {
      "cell_type": "code",
      "source": [
        "import random"
      ],
      "metadata": {
        "id": "JXZW_WcCcO7z"
      },
      "execution_count": null,
      "outputs": []
    },
    {
      "cell_type": "code",
      "source": [
        "# label0 = 0\n",
        "# train_split_normal = []\n",
        "# train_split = len(train_sample)//2\n",
        "# print(train_split)\n",
        "# for x in range(train_split):\n",
        "#   train_split_normal.append((x,label0))\n",
        "# print(train_split_normal)"
      ],
      "metadata": {
        "id": "g0BMaK6ymM5N"
      },
      "execution_count": null,
      "outputs": []
    },
    {
      "cell_type": "markdown",
      "source": [
        "### Train and Test data randomly labeling"
      ],
      "metadata": {
        "id": "t6u0i3QBPj0G"
      }
    },
    {
      "cell_type": "code",
      "source": [
        "# train_indices = [(i, random.randint(0,1)) for i in range(50000)]"
      ],
      "metadata": {
        "id": "5PJ_q1v4eWuw"
      },
      "execution_count": null,
      "outputs": []
    },
    {
      "cell_type": "code",
      "source": [
        "# test_indices = [(i, random.randint(0,1)) for i in range(10000)]"
      ],
      "metadata": {
        "id": "fWSTbUxpGy8Z"
      },
      "execution_count": null,
      "outputs": []
    },
    {
      "cell_type": "markdown",
      "source": [
        "### Dataset Class"
      ],
      "metadata": {
        "id": "NPL6Y8_F73T-"
      }
    },
    {
      "cell_type": "code",
      "source": [
        ""
      ],
      "metadata": {
        "id": "5P2plNcS72eb"
      },
      "execution_count": null,
      "outputs": []
    },
    {
      "cell_type": "code",
      "source": [
        "class DatasetClass(Dataset):\n",
        "    def __init__(self, dataset, field='image', transform=None): #data_indices\n",
        "        self.dataset = dataset\n",
        "        # self.data_labeled_indices = data_indices\n",
        "        self.field = field\n",
        "        self.transform = transform\n",
        "        \n",
        "    def __len__(self):\n",
        "        return self.dataset.num_rows\n",
        "\n",
        "    def __getitem__(self, idx):\n",
        "        # image_idx, label = self.data_labeled_indices[idx]\n",
        "        label = random.randint(0,1)\n",
        "        image = self.dataset[idx][self.field]\n",
        "        \n",
        "        # 0 = normal image\n",
        "        if label == 0:\n",
        "            image = self.transform(image)\n",
        "            label = torch.tensor(label) #ToTensor()(label)\n",
        "            \n",
        "            # encountered a single channel image in food dataset\n",
        "            # if image.shape[0]==3:\n",
        "            #     return image, label\n",
        "            # else:\n",
        "            #     image = [image]*3\n",
        "            return image, label\n",
        "        # 1 = flipped image/upside down\n",
        "        else:\n",
        "            flipped_image = image.transpose(Image.FLIP_TOP_BOTTOM)\n",
        "            flipped_image = self.transform(flipped_image)\n",
        "            label = torch.tensor(label) #ToTensor()(label)\n",
        "            return flipped_image, label"
      ],
      "metadata": {
        "id": "aLM3dT7OuHI1"
      },
      "execution_count": null,
      "outputs": []
    },
    {
      "cell_type": "markdown",
      "source": [
        "### Data normalizing"
      ],
      "metadata": {
        "id": "f9lBtnMP8DzA"
      }
    },
    {
      "cell_type": "code",
      "source": [
        "normalize = transforms.Compose([transforms.ToTensor(), transforms.Normalize(mean=[0.485, 0.456, 0.406],\n",
        "                                 std=[0.229, 0.224, 0.225]),\n",
        "                                 ])"
      ],
      "metadata": {
        "id": "w0bsajbYYbYQ"
      },
      "execution_count": null,
      "outputs": []
    },
    {
      "cell_type": "code",
      "source": [
        "train_data = DatasetClass(dataset['train'], field='img', transform=normalize)\n",
        "test_data = DatasetClass(dataset['test'], field='img',  transform=normalize)"
      ],
      "metadata": {
        "id": "q4G17GkDusAp"
      },
      "execution_count": null,
      "outputs": []
    },
    {
      "cell_type": "code",
      "source": [
        "x_train, y_train = train_data[3]"
      ],
      "metadata": {
        "id": "WBd7mypaErwi"
      },
      "execution_count": null,
      "outputs": []
    },
    {
      "cell_type": "code",
      "source": [
        "x_train.shape"
      ],
      "metadata": {
        "colab": {
          "base_uri": "https://localhost:8080/"
        },
        "id": "0oyWByrLL1-Y",
        "outputId": "b59fdb7b-21c0-4fc9-d75f-097473710700"
      },
      "execution_count": null,
      "outputs": [
        {
          "output_type": "execute_result",
          "data": {
            "text/plain": [
              "torch.Size([3, 32, 32])"
            ]
          },
          "metadata": {},
          "execution_count": 148
        }
      ]
    },
    {
      "cell_type": "markdown",
      "source": [
        "### Data Loader"
      ],
      "metadata": {
        "id": "m3wpSxE68jS_"
      }
    },
    {
      "cell_type": "code",
      "source": [
        "params = {\n",
        "    \"model\": \"resnet18\",\n",
        "    \"feature_dimension\": 512,\n",
        "    \"device\": \"cuda\",\n",
        "    \"lr\": 0.0001,\n",
        "    \"batch_size\": 128,\n",
        "    \"num_workers\": 4,\n",
        "    \"epochs\": 25,\n",
        "}"
      ],
      "metadata": {
        "id": "MApgp5pLahD0"
      },
      "execution_count": null,
      "outputs": []
    },
    {
      "cell_type": "code",
      "source": [
        "train_dataloader = DataLoader(train_data, batch_size=params['batch_size'], shuffle=False)\n",
        "test_dataloader = DataLoader(test_data, batch_size=params['batch_size'], shuffle=False)"
      ],
      "metadata": {
        "id": "YpdNoxRdFcol"
      },
      "execution_count": null,
      "outputs": []
    },
    {
      "cell_type": "code",
      "source": [
        "stream = next(iter(train_dataloader))"
      ],
      "metadata": {
        "id": "L4uYwbjEJmh5"
      },
      "execution_count": null,
      "outputs": []
    },
    {
      "cell_type": "code",
      "source": [
        "x, y = stream"
      ],
      "metadata": {
        "id": "VcVJCq1KKJUK"
      },
      "execution_count": null,
      "outputs": []
    },
    {
      "cell_type": "code",
      "source": [
        "x.shape"
      ],
      "metadata": {
        "colab": {
          "base_uri": "https://localhost:8080/"
        },
        "id": "hhFriqFMMS3y",
        "outputId": "60e6eb2c-5633-4e8c-a129-908de7a60e88"
      },
      "execution_count": null,
      "outputs": [
        {
          "output_type": "execute_result",
          "data": {
            "text/plain": [
              "torch.Size([128, 3, 32, 32])"
            ]
          },
          "metadata": {},
          "execution_count": 153
        }
      ]
    },
    {
      "cell_type": "markdown",
      "source": [
        "### Custom Pretrained Model"
      ],
      "metadata": {
        "id": "ulfCs6J59ZNS"
      }
    },
    {
      "cell_type": "code",
      "source": [
        "class CustomPretrainedModel(nn.Module):\n",
        "    def __init__(self, model_name=params[\"model\"], feature_dim=params[\"feature_dimension\"], class_number=1):\n",
        "        super(CustomPretrainedModel, self).__init__()\n",
        "        self.model_name = model_name\n",
        "        self.feature_dim = feature_dim\n",
        "        self.class_number = class_number\n",
        "        self.ready_model = self.model_return()\n",
        "\n",
        "    def model_return(self):\n",
        "        pre_model = getattr(models, self.model_name)(pretrained=True)\n",
        "        print(pre_model)\n",
        "        pre_model.fc = nn.Identity()\n",
        "        pre_model.fc = nn.Linear(in_features=self.feature_dim, out_features=self.class_number, bias=True)\n",
        "        return pre_model\n",
        "\n",
        "    def forward(self, x):\n",
        "        output = self.ready_model(x)\n",
        "        return output"
      ],
      "metadata": {
        "id": "Fx_kHVU9O3j4"
      },
      "execution_count": null,
      "outputs": []
    },
    {
      "cell_type": "code",
      "source": [
        "# class CustomPretrainedModelWithDropout(nn.Module):\n",
        "#     def __init__(self, model_name=params[\"model\"], feature_dim=params[\"feature_dimension\"], class_number=1):\n",
        "#         super(CustomPretrainedModelWithDropout, self).__init__()\n",
        "#         self.model_name = model_name\n",
        "#         self.feature_dim = feature_dim\n",
        "#         self.class_number = class_number\n",
        "#         self.ready_model = self.model_return()\n",
        "\n",
        "#         # Define proportion or neurons to dropout\n",
        "        \n",
        "#         # self.dropout_fc = nn.Linear(in_features=self.feature_dim, out_features=1000, bias=True)\n",
        "#         self.dropout = nn.Dropout(0.7)\n",
        "#         self.last_fc = nn.Linear(in_features=512, out_features=self.class_number, bias=True)\n",
        "\n",
        "#     def model_return(self):\n",
        "#         pre_model = getattr(models, self.model_name)(pretrained=True)\n",
        "#         print(pre_model)\n",
        "#         pre_model.fc = nn.Identity()\n",
        "\n",
        "#         return pre_model\n",
        "\n",
        "#     def forward(self, x):\n",
        "#         features = self.ready_model(x)\n",
        "#         dropout_y = self.dropout(features)\n",
        "#         y = self.last_fc(dropout_y)\n",
        "        \n",
        "#         return y"
      ],
      "metadata": {
        "id": "jAGLx1lPuVAl"
      },
      "execution_count": null,
      "outputs": []
    },
    {
      "cell_type": "code",
      "source": [
        "ready_model = CustomPretrainedModelWithDropout()"
      ],
      "metadata": {
        "id": "0Oskn8goMZ0D",
        "colab": {
          "base_uri": "https://localhost:8080/"
        },
        "outputId": "777f4474-d140-458f-e014-ce7e046458a3"
      },
      "execution_count": null,
      "outputs": [
        {
          "output_type": "stream",
          "name": "stdout",
          "text": [
            "ResNet(\n",
            "  (conv1): Conv2d(3, 64, kernel_size=(7, 7), stride=(2, 2), padding=(3, 3), bias=False)\n",
            "  (bn1): BatchNorm2d(64, eps=1e-05, momentum=0.1, affine=True, track_running_stats=True)\n",
            "  (relu): ReLU(inplace=True)\n",
            "  (maxpool): MaxPool2d(kernel_size=3, stride=2, padding=1, dilation=1, ceil_mode=False)\n",
            "  (layer1): Sequential(\n",
            "    (0): BasicBlock(\n",
            "      (conv1): Conv2d(64, 64, kernel_size=(3, 3), stride=(1, 1), padding=(1, 1), bias=False)\n",
            "      (bn1): BatchNorm2d(64, eps=1e-05, momentum=0.1, affine=True, track_running_stats=True)\n",
            "      (relu): ReLU(inplace=True)\n",
            "      (conv2): Conv2d(64, 64, kernel_size=(3, 3), stride=(1, 1), padding=(1, 1), bias=False)\n",
            "      (bn2): BatchNorm2d(64, eps=1e-05, momentum=0.1, affine=True, track_running_stats=True)\n",
            "    )\n",
            "    (1): BasicBlock(\n",
            "      (conv1): Conv2d(64, 64, kernel_size=(3, 3), stride=(1, 1), padding=(1, 1), bias=False)\n",
            "      (bn1): BatchNorm2d(64, eps=1e-05, momentum=0.1, affine=True, track_running_stats=True)\n",
            "      (relu): ReLU(inplace=True)\n",
            "      (conv2): Conv2d(64, 64, kernel_size=(3, 3), stride=(1, 1), padding=(1, 1), bias=False)\n",
            "      (bn2): BatchNorm2d(64, eps=1e-05, momentum=0.1, affine=True, track_running_stats=True)\n",
            "    )\n",
            "  )\n",
            "  (layer2): Sequential(\n",
            "    (0): BasicBlock(\n",
            "      (conv1): Conv2d(64, 128, kernel_size=(3, 3), stride=(2, 2), padding=(1, 1), bias=False)\n",
            "      (bn1): BatchNorm2d(128, eps=1e-05, momentum=0.1, affine=True, track_running_stats=True)\n",
            "      (relu): ReLU(inplace=True)\n",
            "      (conv2): Conv2d(128, 128, kernel_size=(3, 3), stride=(1, 1), padding=(1, 1), bias=False)\n",
            "      (bn2): BatchNorm2d(128, eps=1e-05, momentum=0.1, affine=True, track_running_stats=True)\n",
            "      (downsample): Sequential(\n",
            "        (0): Conv2d(64, 128, kernel_size=(1, 1), stride=(2, 2), bias=False)\n",
            "        (1): BatchNorm2d(128, eps=1e-05, momentum=0.1, affine=True, track_running_stats=True)\n",
            "      )\n",
            "    )\n",
            "    (1): BasicBlock(\n",
            "      (conv1): Conv2d(128, 128, kernel_size=(3, 3), stride=(1, 1), padding=(1, 1), bias=False)\n",
            "      (bn1): BatchNorm2d(128, eps=1e-05, momentum=0.1, affine=True, track_running_stats=True)\n",
            "      (relu): ReLU(inplace=True)\n",
            "      (conv2): Conv2d(128, 128, kernel_size=(3, 3), stride=(1, 1), padding=(1, 1), bias=False)\n",
            "      (bn2): BatchNorm2d(128, eps=1e-05, momentum=0.1, affine=True, track_running_stats=True)\n",
            "    )\n",
            "  )\n",
            "  (layer3): Sequential(\n",
            "    (0): BasicBlock(\n",
            "      (conv1): Conv2d(128, 256, kernel_size=(3, 3), stride=(2, 2), padding=(1, 1), bias=False)\n",
            "      (bn1): BatchNorm2d(256, eps=1e-05, momentum=0.1, affine=True, track_running_stats=True)\n",
            "      (relu): ReLU(inplace=True)\n",
            "      (conv2): Conv2d(256, 256, kernel_size=(3, 3), stride=(1, 1), padding=(1, 1), bias=False)\n",
            "      (bn2): BatchNorm2d(256, eps=1e-05, momentum=0.1, affine=True, track_running_stats=True)\n",
            "      (downsample): Sequential(\n",
            "        (0): Conv2d(128, 256, kernel_size=(1, 1), stride=(2, 2), bias=False)\n",
            "        (1): BatchNorm2d(256, eps=1e-05, momentum=0.1, affine=True, track_running_stats=True)\n",
            "      )\n",
            "    )\n",
            "    (1): BasicBlock(\n",
            "      (conv1): Conv2d(256, 256, kernel_size=(3, 3), stride=(1, 1), padding=(1, 1), bias=False)\n",
            "      (bn1): BatchNorm2d(256, eps=1e-05, momentum=0.1, affine=True, track_running_stats=True)\n",
            "      (relu): ReLU(inplace=True)\n",
            "      (conv2): Conv2d(256, 256, kernel_size=(3, 3), stride=(1, 1), padding=(1, 1), bias=False)\n",
            "      (bn2): BatchNorm2d(256, eps=1e-05, momentum=0.1, affine=True, track_running_stats=True)\n",
            "    )\n",
            "  )\n",
            "  (layer4): Sequential(\n",
            "    (0): BasicBlock(\n",
            "      (conv1): Conv2d(256, 512, kernel_size=(3, 3), stride=(2, 2), padding=(1, 1), bias=False)\n",
            "      (bn1): BatchNorm2d(512, eps=1e-05, momentum=0.1, affine=True, track_running_stats=True)\n",
            "      (relu): ReLU(inplace=True)\n",
            "      (conv2): Conv2d(512, 512, kernel_size=(3, 3), stride=(1, 1), padding=(1, 1), bias=False)\n",
            "      (bn2): BatchNorm2d(512, eps=1e-05, momentum=0.1, affine=True, track_running_stats=True)\n",
            "      (downsample): Sequential(\n",
            "        (0): Conv2d(256, 512, kernel_size=(1, 1), stride=(2, 2), bias=False)\n",
            "        (1): BatchNorm2d(512, eps=1e-05, momentum=0.1, affine=True, track_running_stats=True)\n",
            "      )\n",
            "    )\n",
            "    (1): BasicBlock(\n",
            "      (conv1): Conv2d(512, 512, kernel_size=(3, 3), stride=(1, 1), padding=(1, 1), bias=False)\n",
            "      (bn1): BatchNorm2d(512, eps=1e-05, momentum=0.1, affine=True, track_running_stats=True)\n",
            "      (relu): ReLU(inplace=True)\n",
            "      (conv2): Conv2d(512, 512, kernel_size=(3, 3), stride=(1, 1), padding=(1, 1), bias=False)\n",
            "      (bn2): BatchNorm2d(512, eps=1e-05, momentum=0.1, affine=True, track_running_stats=True)\n",
            "    )\n",
            "  )\n",
            "  (avgpool): AdaptiveAvgPool2d(output_size=(1, 1))\n",
            "  (fc): Linear(in_features=512, out_features=1000, bias=True)\n",
            ")\n"
          ]
        }
      ]
    },
    {
      "cell_type": "code",
      "source": [
        "output = ready_model(x)"
      ],
      "metadata": {
        "id": "IuY9m_ddWF6I"
      },
      "execution_count": null,
      "outputs": []
    },
    {
      "cell_type": "code",
      "source": [
        "output.shape"
      ],
      "metadata": {
        "colab": {
          "base_uri": "https://localhost:8080/"
        },
        "id": "3mWSNFGBWWG6",
        "outputId": "42d988c4-bd66-4810-c0d3-251864becabd"
      },
      "execution_count": null,
      "outputs": [
        {
          "output_type": "execute_result",
          "data": {
            "text/plain": [
              "torch.Size([128, 1])"
            ]
          },
          "metadata": {},
          "execution_count": 158
        }
      ]
    },
    {
      "cell_type": "code",
      "source": [
        "ready_model"
      ],
      "metadata": {
        "id": "GceOu6J_WgUB",
        "colab": {
          "base_uri": "https://localhost:8080/"
        },
        "outputId": "1f5ac3ad-0e0b-4fd3-95df-091bbafb38eb"
      },
      "execution_count": null,
      "outputs": [
        {
          "output_type": "execute_result",
          "data": {
            "text/plain": [
              "CustomPretrainedModelWithDropout(\n",
              "  (ready_model): ResNet(\n",
              "    (conv1): Conv2d(3, 64, kernel_size=(7, 7), stride=(2, 2), padding=(3, 3), bias=False)\n",
              "    (bn1): BatchNorm2d(64, eps=1e-05, momentum=0.1, affine=True, track_running_stats=True)\n",
              "    (relu): ReLU(inplace=True)\n",
              "    (maxpool): MaxPool2d(kernel_size=3, stride=2, padding=1, dilation=1, ceil_mode=False)\n",
              "    (layer1): Sequential(\n",
              "      (0): BasicBlock(\n",
              "        (conv1): Conv2d(64, 64, kernel_size=(3, 3), stride=(1, 1), padding=(1, 1), bias=False)\n",
              "        (bn1): BatchNorm2d(64, eps=1e-05, momentum=0.1, affine=True, track_running_stats=True)\n",
              "        (relu): ReLU(inplace=True)\n",
              "        (conv2): Conv2d(64, 64, kernel_size=(3, 3), stride=(1, 1), padding=(1, 1), bias=False)\n",
              "        (bn2): BatchNorm2d(64, eps=1e-05, momentum=0.1, affine=True, track_running_stats=True)\n",
              "      )\n",
              "      (1): BasicBlock(\n",
              "        (conv1): Conv2d(64, 64, kernel_size=(3, 3), stride=(1, 1), padding=(1, 1), bias=False)\n",
              "        (bn1): BatchNorm2d(64, eps=1e-05, momentum=0.1, affine=True, track_running_stats=True)\n",
              "        (relu): ReLU(inplace=True)\n",
              "        (conv2): Conv2d(64, 64, kernel_size=(3, 3), stride=(1, 1), padding=(1, 1), bias=False)\n",
              "        (bn2): BatchNorm2d(64, eps=1e-05, momentum=0.1, affine=True, track_running_stats=True)\n",
              "      )\n",
              "    )\n",
              "    (layer2): Sequential(\n",
              "      (0): BasicBlock(\n",
              "        (conv1): Conv2d(64, 128, kernel_size=(3, 3), stride=(2, 2), padding=(1, 1), bias=False)\n",
              "        (bn1): BatchNorm2d(128, eps=1e-05, momentum=0.1, affine=True, track_running_stats=True)\n",
              "        (relu): ReLU(inplace=True)\n",
              "        (conv2): Conv2d(128, 128, kernel_size=(3, 3), stride=(1, 1), padding=(1, 1), bias=False)\n",
              "        (bn2): BatchNorm2d(128, eps=1e-05, momentum=0.1, affine=True, track_running_stats=True)\n",
              "        (downsample): Sequential(\n",
              "          (0): Conv2d(64, 128, kernel_size=(1, 1), stride=(2, 2), bias=False)\n",
              "          (1): BatchNorm2d(128, eps=1e-05, momentum=0.1, affine=True, track_running_stats=True)\n",
              "        )\n",
              "      )\n",
              "      (1): BasicBlock(\n",
              "        (conv1): Conv2d(128, 128, kernel_size=(3, 3), stride=(1, 1), padding=(1, 1), bias=False)\n",
              "        (bn1): BatchNorm2d(128, eps=1e-05, momentum=0.1, affine=True, track_running_stats=True)\n",
              "        (relu): ReLU(inplace=True)\n",
              "        (conv2): Conv2d(128, 128, kernel_size=(3, 3), stride=(1, 1), padding=(1, 1), bias=False)\n",
              "        (bn2): BatchNorm2d(128, eps=1e-05, momentum=0.1, affine=True, track_running_stats=True)\n",
              "      )\n",
              "    )\n",
              "    (layer3): Sequential(\n",
              "      (0): BasicBlock(\n",
              "        (conv1): Conv2d(128, 256, kernel_size=(3, 3), stride=(2, 2), padding=(1, 1), bias=False)\n",
              "        (bn1): BatchNorm2d(256, eps=1e-05, momentum=0.1, affine=True, track_running_stats=True)\n",
              "        (relu): ReLU(inplace=True)\n",
              "        (conv2): Conv2d(256, 256, kernel_size=(3, 3), stride=(1, 1), padding=(1, 1), bias=False)\n",
              "        (bn2): BatchNorm2d(256, eps=1e-05, momentum=0.1, affine=True, track_running_stats=True)\n",
              "        (downsample): Sequential(\n",
              "          (0): Conv2d(128, 256, kernel_size=(1, 1), stride=(2, 2), bias=False)\n",
              "          (1): BatchNorm2d(256, eps=1e-05, momentum=0.1, affine=True, track_running_stats=True)\n",
              "        )\n",
              "      )\n",
              "      (1): BasicBlock(\n",
              "        (conv1): Conv2d(256, 256, kernel_size=(3, 3), stride=(1, 1), padding=(1, 1), bias=False)\n",
              "        (bn1): BatchNorm2d(256, eps=1e-05, momentum=0.1, affine=True, track_running_stats=True)\n",
              "        (relu): ReLU(inplace=True)\n",
              "        (conv2): Conv2d(256, 256, kernel_size=(3, 3), stride=(1, 1), padding=(1, 1), bias=False)\n",
              "        (bn2): BatchNorm2d(256, eps=1e-05, momentum=0.1, affine=True, track_running_stats=True)\n",
              "      )\n",
              "    )\n",
              "    (layer4): Sequential(\n",
              "      (0): BasicBlock(\n",
              "        (conv1): Conv2d(256, 512, kernel_size=(3, 3), stride=(2, 2), padding=(1, 1), bias=False)\n",
              "        (bn1): BatchNorm2d(512, eps=1e-05, momentum=0.1, affine=True, track_running_stats=True)\n",
              "        (relu): ReLU(inplace=True)\n",
              "        (conv2): Conv2d(512, 512, kernel_size=(3, 3), stride=(1, 1), padding=(1, 1), bias=False)\n",
              "        (bn2): BatchNorm2d(512, eps=1e-05, momentum=0.1, affine=True, track_running_stats=True)\n",
              "        (downsample): Sequential(\n",
              "          (0): Conv2d(256, 512, kernel_size=(1, 1), stride=(2, 2), bias=False)\n",
              "          (1): BatchNorm2d(512, eps=1e-05, momentum=0.1, affine=True, track_running_stats=True)\n",
              "        )\n",
              "      )\n",
              "      (1): BasicBlock(\n",
              "        (conv1): Conv2d(512, 512, kernel_size=(3, 3), stride=(1, 1), padding=(1, 1), bias=False)\n",
              "        (bn1): BatchNorm2d(512, eps=1e-05, momentum=0.1, affine=True, track_running_stats=True)\n",
              "        (relu): ReLU(inplace=True)\n",
              "        (conv2): Conv2d(512, 512, kernel_size=(3, 3), stride=(1, 1), padding=(1, 1), bias=False)\n",
              "        (bn2): BatchNorm2d(512, eps=1e-05, momentum=0.1, affine=True, track_running_stats=True)\n",
              "      )\n",
              "    )\n",
              "    (avgpool): AdaptiveAvgPool2d(output_size=(1, 1))\n",
              "    (fc): Identity()\n",
              "  )\n",
              "  (dropout): Dropout(p=0.7, inplace=False)\n",
              "  (last_fc): Linear(in_features=512, out_features=1, bias=True)\n",
              ")"
            ]
          },
          "metadata": {},
          "execution_count": 159
        }
      ]
    },
    {
      "cell_type": "code",
      "source": [
        "def calculate_accuracy(output, target):\n",
        "    output = torch.sigmoid(output) >= 0.5\n",
        "    target = target == 1.0\n",
        "    return torch.true_divide((target == output).sum(dim=0), output.size(0)).item()"
      ],
      "metadata": {
        "id": "o6Y29OHFYDQk"
      },
      "execution_count": null,
      "outputs": []
    },
    {
      "cell_type": "code",
      "source": [
        "class MetricMonitor:\n",
        "    def __init__(self, float_precision=3):\n",
        "        self.float_precision = float_precision\n",
        "        self.reset()\n",
        "\n",
        "    def reset(self):\n",
        "        self.metrics = defaultdict(lambda: {\"val\": 0, \"count\": 0, \"avg\": 0})\n",
        "\n",
        "    def update(self, metric_name, val):\n",
        "        metric = self.metrics[metric_name]\n",
        "\n",
        "        metric[\"val\"] += val\n",
        "        metric[\"count\"] += 1\n",
        "        metric[\"avg\"] = metric[\"val\"] / metric[\"count\"]\n",
        "\n",
        "    def __str__(self):\n",
        "        return \" | \".join(\n",
        "            [\n",
        "                \"{metric_name}: {avg:.{float_precision}f}\".format(\n",
        "                    metric_name=metric_name, avg=metric[\"avg\"], float_precision=self.float_precision\n",
        "                )\n",
        "                for (metric_name, metric) in self.metrics.items()\n",
        "            ]\n",
        "        )"
      ],
      "metadata": {
        "id": "Df7B3ISpaHIw"
      },
      "execution_count": null,
      "outputs": []
    },
    {
      "cell_type": "code",
      "source": [
        "model = ready_model.to(params[\"device\"])\n",
        "criterion = nn.BCEWithLogitsLoss().to(params[\"device\"])\n",
        "optimizer = torch.optim.Adam(model.parameters(), lr=params[\"lr\"])"
      ],
      "metadata": {
        "id": "PIb0__rKaKmz"
      },
      "execution_count": null,
      "outputs": []
    },
    {
      "cell_type": "markdown",
      "source": [
        "### Training Pipeline"
      ],
      "metadata": {
        "id": "424ottFW9vru"
      }
    },
    {
      "cell_type": "code",
      "source": [
        "# train_losses = []\n",
        "# train_acc = []\n",
        "\n",
        "def train(train_loader, model, criterion, optimizer, epoch, params):\n",
        "    metric_monitor = MetricMonitor()\n",
        "    model.train()\n",
        "    stream = tqdm(train_loader)\n",
        "    \n",
        "    for i, (images, target) in enumerate(stream, start=1):\n",
        "        images = images.to(params[\"device\"], non_blocking=True)\n",
        "        target = target.to(params[\"device\"], non_blocking=True).float().view(-1, 1)\n",
        "        output = model(images)\n",
        "        loss = criterion(output, target)\n",
        "        accuracy = calculate_accuracy(output, target)\n",
        "        metric_monitor.update(\"Loss\", loss.item())\n",
        "        # train_losses.append(loss.item())\n",
        "        metric_monitor.update(\"Accuracy\", accuracy)\n",
        "        # train_acc.append(accuracy)\n",
        "        optimizer.zero_grad()\n",
        "        loss.backward()\n",
        "        optimizer.step()\n",
        "        stream.set_description(\n",
        "            \"Epoch: {epoch}. Train.      {metric_monitor}\".format(epoch=epoch, metric_monitor=metric_monitor)\n",
        "        )\n",
        "    return metric_monitor.metrics['Loss']['avg'], metric_monitor.metrics['Accuracy']['avg'] #loss.item(), accuracy"
      ],
      "metadata": {
        "id": "W55XbTRNaXQp"
      },
      "execution_count": null,
      "outputs": []
    },
    {
      "cell_type": "markdown",
      "source": [
        "### Validation Pipeline"
      ],
      "metadata": {
        "id": "j1rjxq4793HK"
      }
    },
    {
      "cell_type": "code",
      "source": [
        "# val_losses = []\n",
        "# val_acc = []\n",
        "\n",
        "def validate(val_loader, model, criterion, epoch, params):\n",
        "    metric_monitor = MetricMonitor()\n",
        "    model.eval()\n",
        "    stream = tqdm(val_loader)\n",
        "    with torch.no_grad():\n",
        "        for i, (images, target) in enumerate(stream, start=1):\n",
        "            images = images.to(params[\"device\"], non_blocking=True)\n",
        "            target = target.to(params[\"device\"], non_blocking=True).float().view(-1, 1)\n",
        "            output = model(images)\n",
        "            loss = criterion(output, target)\n",
        "            accuracy = calculate_accuracy(output, target)\n",
        "\n",
        "            metric_monitor.update(\"Loss\", loss.item())\n",
        "            # val_losses.append(loss.item())\n",
        "            metric_monitor.update(\"Accuracy\", accuracy)\n",
        "            # val_acc.append(accuracy)\n",
        "            stream.set_description(\n",
        "                \"Epoch: {epoch}. Validation. {metric_monitor}\".format(epoch=epoch, metric_monitor=metric_monitor)\n",
        "            )\n",
        "    return metric_monitor.metrics['Loss']['avg'], metric_monitor.metrics['Accuracy']['avg'] #loss.item(), accuracy"
      ],
      "metadata": {
        "id": "6yeZZYzXgQm6"
      },
      "execution_count": null,
      "outputs": []
    },
    {
      "cell_type": "markdown",
      "source": [
        "### Function for Saving Model"
      ],
      "metadata": {
        "id": "Q9pf2yCi-AwO"
      }
    },
    {
      "cell_type": "code",
      "source": [
        "def model_save(epoch, model, optimizer, PATH):\n",
        "    torch.save({\n",
        "                'epoch': epoch,\n",
        "                'model_state_dict': model.state_dict(),\n",
        "                'optimizer_state_dict': optimizer.state_dict()\n",
        "                }, PATH)"
      ],
      "metadata": {
        "id": "mLX0jt5Ai7EI"
      },
      "execution_count": null,
      "outputs": []
    },
    {
      "cell_type": "markdown",
      "source": [
        "### Training Loop"
      ],
      "metadata": {
        "id": "5PcpKQPA-Pm0"
      }
    },
    {
      "cell_type": "code",
      "source": [
        "import matplotlib.pyplot as plt"
      ],
      "metadata": {
        "id": "5uvR8UaUCCOP"
      },
      "execution_count": null,
      "outputs": []
    },
    {
      "cell_type": "code",
      "source": [
        "train_losses = []\n",
        "train_acc = []\n",
        "\n",
        "val_losses = []\n",
        "val_acc = []\n",
        "\n",
        "prev_accuracy = 0\n",
        "for epoch in range(1, params[\"epochs\"] + 1):\n",
        "    train_loss, train_accuracy = train(train_dataloader, model, criterion, optimizer, epoch, params)\n",
        "    val_loss, val_accuracy = validate(test_dataloader, model, criterion, epoch, params)\n",
        "    # print(\"##########\", train_loss, val_loss)\n",
        "    # print(\"!!!!!!!!!\", train_accuracy, val_accuracy)\n",
        "\n",
        "    # if val_accuracy > prev_accuracy:\n",
        "    model_save(epoch, model, optimizer, PATH = f\"/content/drive/MyDrive/upside_down/resnet18/my_model_epoch_{epoch}.pth\")\n",
        "\n",
        "    prev_accuracy = val_accuracy\n",
        "\n",
        "    train_losses.append(train_loss)\n",
        "    train_acc.append(train_accuracy)\n",
        "    val_losses.append(val_loss)\n",
        "    val_acc.append(val_accuracy)"
      ],
      "metadata": {
        "colab": {
          "base_uri": "https://localhost:8080/"
        },
        "id": "p_8uW4Tvf3kp",
        "outputId": "dbce7451-22f7-4863-cc70-b4c157ca62ba"
      },
      "execution_count": null,
      "outputs": [
        {
          "output_type": "stream",
          "name": "stderr",
          "text": [
            "Epoch: 1. Train.      Loss: 0.513 | Accuracy: 0.741: 100%|██████████| 391/391 [00:52<00:00,  7.50it/s]\n",
            "Epoch: 1. Validation. Loss: 0.351 | Accuracy: 0.839: 100%|██████████| 79/79 [00:09<00:00,  8.35it/s]\n",
            "Epoch: 2. Train.      Loss: 0.311 | Accuracy: 0.861: 100%|██████████| 391/391 [00:52<00:00,  7.45it/s]\n",
            "Epoch: 2. Validation. Loss: 0.292 | Accuracy: 0.867: 100%|██████████| 79/79 [00:09<00:00,  8.45it/s]\n",
            "Epoch: 3. Train.      Loss: 0.246 | Accuracy: 0.896: 100%|██████████| 391/391 [00:51<00:00,  7.55it/s]\n",
            "Epoch: 3. Validation. Loss: 0.275 | Accuracy: 0.882: 100%|██████████| 79/79 [00:09<00:00,  8.38it/s]\n",
            "Epoch: 4. Train.      Loss: 0.197 | Accuracy: 0.918: 100%|██████████| 391/391 [00:52<00:00,  7.47it/s]\n",
            "Epoch: 4. Validation. Loss: 0.284 | Accuracy: 0.883: 100%|██████████| 79/79 [00:09<00:00,  8.37it/s]\n",
            "Epoch: 5. Train.      Loss: 0.165 | Accuracy: 0.934: 100%|██████████| 391/391 [00:52<00:00,  7.43it/s]\n",
            "Epoch: 5. Validation. Loss: 0.269 | Accuracy: 0.892: 100%|██████████| 79/79 [00:09<00:00,  8.26it/s]\n",
            "Epoch: 6. Train.      Loss: 0.138 | Accuracy: 0.946: 100%|██████████| 391/391 [00:52<00:00,  7.48it/s]\n",
            "Epoch: 6. Validation. Loss: 0.284 | Accuracy: 0.893: 100%|██████████| 79/79 [00:09<00:00,  8.34it/s]\n",
            "Epoch: 7. Train.      Loss: 0.117 | Accuracy: 0.954: 100%|██████████| 391/391 [00:52<00:00,  7.49it/s]\n",
            "Epoch: 7. Validation. Loss: 0.292 | Accuracy: 0.898: 100%|██████████| 79/79 [00:09<00:00,  8.46it/s]\n",
            "Epoch: 8. Train.      Loss: 0.092 | Accuracy: 0.965: 100%|██████████| 391/391 [00:52<00:00,  7.44it/s]\n",
            "Epoch: 8. Validation. Loss: 0.308 | Accuracy: 0.894: 100%|██████████| 79/79 [00:09<00:00,  8.34it/s]\n",
            "Epoch: 9. Train.      Loss: 0.084 | Accuracy: 0.968: 100%|██████████| 391/391 [00:52<00:00,  7.48it/s]\n",
            "Epoch: 9. Validation. Loss: 0.298 | Accuracy: 0.903: 100%|██████████| 79/79 [00:09<00:00,  8.38it/s]\n",
            "Epoch: 10. Train.      Loss: 0.067 | Accuracy: 0.976: 100%|██████████| 391/391 [00:51<00:00,  7.56it/s]\n",
            "Epoch: 10. Validation. Loss: 0.336 | Accuracy: 0.899: 100%|██████████| 79/79 [00:09<00:00,  8.59it/s]\n",
            "Epoch: 11. Train.      Loss: 0.061 | Accuracy: 0.977: 100%|██████████| 391/391 [00:51<00:00,  7.52it/s]\n",
            "Epoch: 11. Validation. Loss: 0.334 | Accuracy: 0.897: 100%|██████████| 79/79 [00:09<00:00,  8.50it/s]\n",
            "Epoch: 12. Train.      Loss: 0.053 | Accuracy: 0.980: 100%|██████████| 391/391 [00:51<00:00,  7.54it/s]\n",
            "Epoch: 12. Validation. Loss: 0.335 | Accuracy: 0.901: 100%|██████████| 79/79 [00:09<00:00,  8.51it/s]\n",
            "Epoch: 13. Train.      Loss: 0.047 | Accuracy: 0.983: 100%|██████████| 391/391 [00:52<00:00,  7.51it/s]\n",
            "Epoch: 13. Validation. Loss: 0.345 | Accuracy: 0.903: 100%|██████████| 79/79 [00:09<00:00,  8.41it/s]\n",
            "Epoch: 14. Train.      Loss: 0.042 | Accuracy: 0.985: 100%|██████████| 391/391 [00:51<00:00,  7.53it/s]\n",
            "Epoch: 14. Validation. Loss: 0.361 | Accuracy: 0.902: 100%|██████████| 79/79 [00:09<00:00,  8.45it/s]\n",
            "Epoch: 15. Train.      Loss: 0.041 | Accuracy: 0.986: 100%|██████████| 391/391 [00:52<00:00,  7.47it/s]\n",
            "Epoch: 15. Validation. Loss: 0.372 | Accuracy: 0.901: 100%|██████████| 79/79 [00:09<00:00,  8.36it/s]\n",
            "Epoch: 16. Train.      Loss: 0.034 | Accuracy: 0.987: 100%|██████████| 391/391 [00:52<00:00,  7.44it/s]\n",
            "Epoch: 16. Validation. Loss: 0.398 | Accuracy: 0.899: 100%|██████████| 79/79 [00:09<00:00,  8.28it/s]\n",
            "Epoch: 17. Train.      Loss: 0.034 | Accuracy: 0.988: 100%|██████████| 391/391 [00:52<00:00,  7.39it/s]\n",
            "Epoch: 17. Validation. Loss: 0.379 | Accuracy: 0.897: 100%|██████████| 79/79 [00:09<00:00,  8.36it/s]\n",
            "Epoch: 18. Train.      Loss: 0.030 | Accuracy: 0.990: 100%|██████████| 391/391 [00:52<00:00,  7.42it/s]\n",
            "Epoch: 18. Validation. Loss: 0.390 | Accuracy: 0.903: 100%|██████████| 79/79 [00:09<00:00,  8.37it/s]\n",
            "Epoch: 19. Train.      Loss: 0.031 | Accuracy: 0.989: 100%|██████████| 391/391 [00:52<00:00,  7.40it/s]\n",
            "Epoch: 19. Validation. Loss: 0.398 | Accuracy: 0.904: 100%|██████████| 79/79 [00:09<00:00,  8.41it/s]\n",
            "Epoch: 20. Train.      Loss: 0.028 | Accuracy: 0.990: 100%|██████████| 391/391 [00:53<00:00,  7.35it/s]\n",
            "Epoch: 20. Validation. Loss: 0.404 | Accuracy: 0.899: 100%|██████████| 79/79 [00:09<00:00,  8.34it/s]\n",
            "Epoch: 21. Train.      Loss: 0.025 | Accuracy: 0.991: 100%|██████████| 391/391 [00:52<00:00,  7.41it/s]\n",
            "Epoch: 21. Validation. Loss: 0.427 | Accuracy: 0.902: 100%|██████████| 79/79 [00:09<00:00,  8.52it/s]\n",
            "Epoch: 22. Train.      Loss: 0.026 | Accuracy: 0.990: 100%|██████████| 391/391 [00:52<00:00,  7.38it/s]\n",
            "Epoch: 22. Validation. Loss: 0.402 | Accuracy: 0.904: 100%|██████████| 79/79 [00:09<00:00,  8.34it/s]\n",
            "Epoch: 23. Train.      Loss: 0.023 | Accuracy: 0.991: 100%|██████████| 391/391 [00:54<00:00,  7.21it/s]\n",
            "Epoch: 23. Validation. Loss: 0.437 | Accuracy: 0.901: 100%|██████████| 79/79 [00:09<00:00,  8.29it/s]\n",
            "Epoch: 24. Train.      Loss: 0.024 | Accuracy: 0.991: 100%|██████████| 391/391 [00:53<00:00,  7.38it/s]\n",
            "Epoch: 24. Validation. Loss: 0.402 | Accuracy: 0.906: 100%|██████████| 79/79 [00:09<00:00,  8.45it/s]\n",
            "Epoch: 25. Train.      Loss: 0.021 | Accuracy: 0.992: 100%|██████████| 391/391 [00:52<00:00,  7.40it/s]\n",
            "Epoch: 25. Validation. Loss: 0.419 | Accuracy: 0.905: 100%|██████████| 79/79 [00:09<00:00,  8.43it/s]\n"
          ]
        }
      ]
    },
    {
      "cell_type": "markdown",
      "source": [
        "**Train and Validation Accuracy:**\n",
        "\n",
        "    - This time the models were not overfitted like the previous models.\n",
        "    - Got the expecting model with 99.1% training accuracy and 90.6% validation accuracy in the epoch 24.\n"
      ],
      "metadata": {
        "id": "s0yG6JhgBCPU"
      }
    },
    {
      "cell_type": "markdown",
      "source": [
        "Training Loss and Validation Loss Curve"
      ],
      "metadata": {
        "id": "dBNpMKznElTM"
      }
    },
    {
      "cell_type": "code",
      "source": [
        "############ Curve ############\n",
        "plt.figure(figsize=(10,5))\n",
        "plt.title(\"Training and Validation Loss\")\n",
        "plt.plot(val_losses,label=\"val\")\n",
        "plt.plot(train_losses,label=\"train\")\n",
        "plt.xlabel(\"iterations\")\n",
        "plt.ylabel(\"Loss\")\n",
        "plt.legend()\n",
        "plt.savefig('/content/drive/MyDrive/upside_down/resnet18/images/train_and_val_loss_resnet18.jpg')\n",
        "plt.show()"
      ],
      "metadata": {
        "id": "laN7v1o8Ej11",
        "colab": {
          "base_uri": "https://localhost:8080/",
          "height": 350
        },
        "outputId": "20218c9e-1d7d-4c55-8e63-3e7a4108fe8f"
      },
      "execution_count": null,
      "outputs": [
        {
          "output_type": "display_data",
          "data": {
            "text/plain": [
              "<Figure size 720x360 with 1 Axes>"
            ],
            "image/png": "[encoded data removed]"
          },
          "metadata": {
            "needs_background": "light"
          }
        }
      ]
    },
    {
      "cell_type": "markdown",
      "source": [
        "Training and Validation Accuracy Curve"
      ],
      "metadata": {
        "id": "8EVq-dnpE80Y"
      }
    },
    {
      "cell_type": "code",
      "source": [
        "train_acc"
      ],
      "metadata": {
        "id": "CFfoVw5eGCMn"
      },
      "execution_count": null,
      "outputs": []
    },
    {
      "cell_type": "code",
      "source": [
        "val_acc"
      ],
      "metadata": {
        "id": "wM1FTwNdEagF"
      },
      "execution_count": null,
      "outputs": []
    },
    {
      "cell_type": "code",
      "source": [
        "plt.figure(figsize=(10,5))\n",
        "plt.title(\"Training and Validation Accuracy\")\n",
        "plt.plot(val_acc,label=\"val\")\n",
        "plt.plot(train_acc,label=\"train\")\n",
        "plt.xlabel(\"iterations\")\n",
        "plt.ylabel(\"Accuracy\")\n",
        "plt.legend()\n",
        "plt.savefig('/content/drive/MyDrive/upside_down/resnet18/images/train_and_val_acc_resnet18.jpg')\n",
        "plt.show()\n"
      ],
      "metadata": {
        "id": "HJRPi2HEf8FZ",
        "colab": {
          "base_uri": "https://localhost:8080/",
          "height": 350
        },
        "outputId": "079ba48f-ceea-4e8c-e584-b5690079a2b8"
      },
      "execution_count": null,
      "outputs": [
        {
          "output_type": "display_data",
          "data": {
            "text/plain": [
              "<Figure size 720x360 with 1 Axes>"
            ],
            "image/png": "[encoded data removed]"
          },
          "metadata": {
            "needs_background": "light"
          }
        }
      ]
    },
    {
      "cell_type": "code",
      "source": [
        ""
      ],
      "metadata": {
        "id": "O_Oxvs8xFcF1"
      },
      "execution_count": null,
      "outputs": []
    },
    {
      "cell_type": "markdown",
      "source": [
        "### Load Model"
      ],
      "metadata": {
        "id": "sixtUcxwBLRE"
      }
    },
    {
      "cell_type": "code",
      "source": [
        "model_path = \"/content/drive/MyDrive/upside_down/resnet18/my_model_epoch_24.pth\"\n",
        "# model.load_state_dict(torch.load(models, map_location=params['device']))"
      ],
      "metadata": {
        "id": "FipqAva7k45x"
      },
      "execution_count": null,
      "outputs": []
    },
    {
      "cell_type": "code",
      "source": [
        "checkpoint = torch.load(model_path, map_location=params['device'])"
      ],
      "metadata": {
        "id": "7yQl58PHvZ1e"
      },
      "execution_count": null,
      "outputs": []
    },
    {
      "cell_type": "code",
      "source": [
        "model.load_state_dict(checkpoint['model_state_dict'])\n",
        "optimizer.load_state_dict(checkpoint['optimizer_state_dict'])\n",
        "epoch = checkpoint['epoch']\n",
        "# loss = checkpoint['loss']"
      ],
      "metadata": {
        "id": "JRSztF6MvK83"
      },
      "execution_count": null,
      "outputs": []
    },
    {
      "cell_type": "code",
      "source": [
        "# model"
      ],
      "metadata": {
        "id": "werQDROrvkjw"
      },
      "execution_count": null,
      "outputs": []
    },
    {
      "cell_type": "markdown",
      "source": [
        "## Inference Pipeline"
      ],
      "metadata": {
        "id": "n9e2VwnaVv_V"
      }
    },
    {
      "cell_type": "code",
      "source": [
        "dataset = load_dataset(\"cifar10\")"
      ],
      "metadata": {
        "colab": {
          "base_uri": "https://localhost:8080/",
          "height": 67,
          "referenced_widgets": [
            "21a21324b9ec4fd1b436512dfbabc615",
            "4e93a70a73674b8488c234ffd3bba0b9",
            "fa3bd738d5404bde9aa4956bc59bf793",
            "79b978cfbacf469396ac30c132b82776",
            "698d07085db748c7a14be4cf1e4a7b60",
            "94bbdf223b4c4f47a805824dd3e64c22",
            "f37a62887f674429adfc65a8ef46e341",
            "db9afb9e647f4162a1d1945b7a76daa1",
            "6cf4d6d5222d460aad5e265bb4fc25a0",
            "e7edea03a9ec447e962eef8fff13fcc0",
            "675bb24f6d994805979f12ad917dd022"
          ]
        },
        "id": "6DOssQjsVvd7",
        "outputId": "671b5d42-7b3f-4b52-a264-3b607d5a8d37"
      },
      "execution_count": null,
      "outputs": [
        {
          "output_type": "stream",
          "name": "stderr",
          "text": [
            "Reusing dataset cifar10 (/root/.cache/huggingface/datasets/cifar10/plain_text/1.0.0/447d6ec4733dddd1ce3bb577c7166b986eaa4c538dcd9e805ba61f35674a9de4)\n"
          ]
        },
        {
          "output_type": "display_data",
          "data": {
            "text/plain": [
              "  0%|          | 0/2 [00:00<?, ?it/s]"
            ],
            "application/vnd.jupyter.widget-view+json": {
              "version_major": 2,
              "version_minor": 0,
              "model_id": "21a21324b9ec4fd1b436512dfbabc615"
            }
          },
          "metadata": {}
        }
      ]
    },
    {
      "cell_type": "code",
      "source": [
        "dataset"
      ],
      "metadata": {
        "colab": {
          "base_uri": "https://localhost:8080/"
        },
        "id": "NkF_vqV2Yztg",
        "outputId": "edec2a65-6676-405e-971d-9fb718dfb769"
      },
      "execution_count": null,
      "outputs": [
        {
          "output_type": "execute_result",
          "data": {
            "text/plain": [
              "DatasetDict({\n",
              "    train: Dataset({\n",
              "        features: ['img', 'label'],\n",
              "        num_rows: 50000\n",
              "    })\n",
              "    test: Dataset({\n",
              "        features: ['img', 'label'],\n",
              "        num_rows: 10000\n",
              "    })\n",
              "})"
            ]
          },
          "metadata": {},
          "execution_count": 177
        }
      ]
    },
    {
      "cell_type": "code",
      "source": [
        "inference_indices = [(i, random.randint(0,1)) for i in range(dataset['train'].num_rows)]"
      ],
      "metadata": {
        "id": "LJP5LwgmWL9L"
      },
      "execution_count": null,
      "outputs": []
    },
    {
      "cell_type": "code",
      "source": [
        "# model"
      ],
      "metadata": {
        "id": "gRS3HmF6WQLS"
      },
      "execution_count": null,
      "outputs": []
    },
    {
      "cell_type": "code",
      "source": [
        "inferece_transform =  transforms.Compose([transforms.Lambda(lambda image: image.convert('RGB')), transforms.Resize((32,32)), transforms.ToTensor(), transforms.Normalize(mean=[0.485, 0.456, 0.406],\n",
        "                                 std=[0.229, 0.224, 0.225]),\n",
        "                                 ])\n"
      ],
      "metadata": {
        "id": "fqXHM7-CjG_I"
      },
      "execution_count": null,
      "outputs": []
    },
    {
      "cell_type": "code",
      "source": [
        "inference_data = DatasetClass(dataset['train'], field='img', transform=inferece_transform)"
      ],
      "metadata": {
        "id": "F_OavApZVtUd"
      },
      "execution_count": null,
      "outputs": []
    },
    {
      "cell_type": "code",
      "source": [
        "# inference_data[0]"
      ],
      "metadata": {
        "id": "pX_haZgbhgZ3"
      },
      "execution_count": null,
      "outputs": []
    },
    {
      "cell_type": "code",
      "source": [
        "inference_dataloader = DataLoader(inference_data, batch_size=params['batch_size'], shuffle=False)"
      ],
      "metadata": {
        "id": "j8nVbo-7WTDZ"
      },
      "execution_count": null,
      "outputs": []
    },
    {
      "cell_type": "code",
      "source": [
        "# batch = next(iter(inference_dataloader))"
      ],
      "metadata": {
        "id": "r_2VA0nXiurn"
      },
      "execution_count": null,
      "outputs": []
    },
    {
      "cell_type": "code",
      "source": [
        "# batch"
      ],
      "metadata": {
        "id": "3so9KI2siyc_"
      },
      "execution_count": null,
      "outputs": []
    },
    {
      "cell_type": "code",
      "source": [
        "# model(batch[0])"
      ],
      "metadata": {
        "id": "73QcC-z8is3s"
      },
      "execution_count": null,
      "outputs": []
    },
    {
      "cell_type": "markdown",
      "source": [
        "### Test Accuracy"
      ],
      "metadata": {
        "id": "jizzaaFOb6Yu"
      }
    },
    {
      "cell_type": "code",
      "source": [
        "from sklearn.metrics import f1_score, precision_score"
      ],
      "metadata": {
        "id": "F6NrLBIHoJPA"
      },
      "execution_count": null,
      "outputs": []
    },
    {
      "cell_type": "code",
      "source": [
        "def calculate_metrics(output, target):\n",
        "    output = torch.sigmoid(output) >= 0.5\n",
        "    target = target == 1.0\n",
        "    target = target.cpu()\n",
        "    output = output.cpu()\n",
        "    \n",
        "    return torch.true_divide((target == output).sum(dim=0), output.size(0)).item(), f1_score(target, output), precision_score(target, output)"
      ],
      "metadata": {
        "id": "VXmn5B2nolYq"
      },
      "execution_count": null,
      "outputs": []
    },
    {
      "cell_type": "code",
      "source": [
        ""
      ],
      "metadata": {
        "id": "dXTzfMe0b5to"
      },
      "execution_count": null,
      "outputs": []
    },
    {
      "cell_type": "code",
      "source": [
        "def test(test_loader, model, criterion, epoch, params):\n",
        "    metric_monitor = MetricMonitor()\n",
        "    model.eval()\n",
        "    stream = tqdm(test_loader)\n",
        "    with torch.no_grad():\n",
        "        for i, (images, target) in enumerate(stream, start=1):\n",
        "            images = images.to(params[\"device\"], non_blocking=True)\n",
        "            target = target.to(params[\"device\"], non_blocking=True).float().view(-1, 1)\n",
        "            output = model(images)\n",
        "            loss = criterion(output, target)\n",
        "            accuracy = calculate_accuracy(output, target)\n",
        "            accuracy, f1_score_var, precision = calculate_metrics(output, target)\n",
        "            # print(accuracy, f1_score_var, precision)\n",
        "            # break\n",
        "            metric_monitor.update(\"Loss\", loss.item())\n",
        "            metric_monitor.update(\"Accuracy\", accuracy)\n",
        "            metric_monitor.update(\"F1-Score\", f1_score_var)\n",
        "            metric_monitor.update(\"Precision-\", precision)\n",
        "            stream.set_description(\n",
        "                \"Epoch: {epoch}. Test. {metric_monitor}\".format(epoch=epoch, metric_monitor=metric_monitor)\n",
        "            )\n",
        "    return accuracy, f1_score"
      ],
      "metadata": {
        "id": "TSy_A8zQc9KV"
      },
      "execution_count": null,
      "outputs": []
    },
    {
      "cell_type": "code",
      "source": [
        "test_accuracy, _ = test(inference_dataloader, model, criterion, epoch, params)"
      ],
      "metadata": {
        "colab": {
          "base_uri": "https://localhost:8080/"
        },
        "id": "WE_D4DK2Wku_",
        "outputId": "ef55cffa-858b-441c-e222-f15601302f3a"
      },
      "execution_count": null,
      "outputs": [
        {
          "output_type": "stream",
          "name": "stderr",
          "text": [
            "Epoch: 24. Test. Loss: 0.016 | Accuracy: 0.994 | F1-Score: 0.994 | Precision-: 0.993: 100%|██████████| 391/391 [00:51<00:00,  7.61it/s]\n"
          ]
        }
      ]
    },
    {
      "cell_type": "markdown",
      "source": [
        "**Test Accuracy:**\n",
        "  - I have tested the inference dataset using 'cifar10' and it's working perfectly and got accuracy almost 82% using the highest validtion accuracy model name 'my_model_epoch_6.pth' where Dropout has been used with resnet18 pretrained model before the linear layer(modified the out_feature=1).\n",
        "  - As you can see almost 82% of the 'cifar10' dataset has been predicted true but almost 18% of the dataset has been predicted wrong but this can be improved. Most of the models are being overfitted but I have chosen a best fitted model among the other models/epoch.\n",
        "  - The models are becoming bias on human images.\n",
        "  - I have also tested 'food101' dataset in inference time but the models couldn't predict the right image because 'cifar100' doesn't have food images.\n",
        "  - I also have try to label the images randomly during training time that helped me to get some more accuracy.\n",
        "  - If I use dropout in every layer then it might be possible that the train and test accuracy will increase.\n",
        "  - I also trained models in resnet34 and resnet50 but got very bad result.\n",
        "  - At last I have trained the model using resnet18 without Dropout but using the random labeling on the fly and got best results till now.\n",
        "  - In epoch-24 the train and validation accuracy is consecutively 0.991 and 0.906 and inference accuracy is 99.4% on 'cifar10' dataset which is till now best accuracy I have gotten."
      ],
      "metadata": {
        "id": "CwLdrI7vOjO-"
      }
    },
    {
      "cell_type": "code",
      "source": [
        ""
      ],
      "metadata": {
        "id": "wDEIg8PCWuP9"
      },
      "execution_count": null,
      "outputs": []
    },
    {
      "cell_type": "markdown",
      "source": [
        "### Image Testing(Visualization)"
      ],
      "metadata": {
        "id": "RVMZnTnf7eop"
      }
    },
    {
      "cell_type": "code",
      "source": [
        "from PIL import Image"
      ],
      "metadata": {
        "id": "5roSuI4g4FsC"
      },
      "execution_count": null,
      "outputs": []
    },
    {
      "cell_type": "code",
      "source": [
        "inferece_transform_visual =  transforms.Compose([transforms.Lambda(lambda image: image.convert('RGB')), transforms.Resize((32,32)), transforms.ToTensor(), transforms.Normalize(mean=[0.485, 0.456, 0.406],\n",
        "                                 std=[0.229, 0.224, 0.225]),\n",
        "                                 ])"
      ],
      "metadata": {
        "id": "roBHC4vq5gJl"
      },
      "execution_count": null,
      "outputs": []
    },
    {
      "cell_type": "markdown",
      "source": [
        "***Image Prediction:***\n",
        "\n",
        "    - If the tensor is negetive or 0 then the image is \"Normal image\" and it will Predict \"False\".\n",
        "\n",
        "    - If the tensor is possitive then the image is \"upside down\" and it will Predict \"True\".\n",
        "\n"
      ],
      "metadata": {
        "id": "QfgLd8Jp8KOb"
      }
    },
    {
      "cell_type": "code",
      "source": [
        "image_for_inference = Image.open('/content/drive/MyDrive/upside_down/Images/horse.jpeg')\n",
        "# image_for_inference = image_for_inference.resize((32,32))\n",
        "plt.imshow(image_for_inference)\n",
        "image_for_inference = inferece_transform_visual(image_for_inference)\n",
        "model.eval()\n",
        "output = model(image_for_inference.float().unsqueeze(0).to(params[\"device\"], non_blocking=True))\n",
        "predictions = (torch.sigmoid(output) >= 0.5)[:, 0].cpu().numpy()\n",
        "print(output)\n",
        "print(predictions)"
      ],
      "metadata": {
        "colab": {
          "base_uri": "https://localhost:8080/",
          "height": 305
        },
        "id": "tuKHd6xz7dDE",
        "outputId": "f40adeed-37fc-4ee3-b068-26ae978eabbc"
      },
      "execution_count": null,
      "outputs": [
        {
          "output_type": "stream",
          "name": "stdout",
          "text": [
            "tensor([[-8.5136]], device='cuda:0', grad_fn=<AddmmBackward0>)\n",
            "[False]\n"
          ]
        },
        {
          "output_type": "display_data",
          "data": {
            "text/plain": [
              "<Figure size 432x288 with 1 Axes>"
            ],
            "image/png": "[encoded data removed]"
          },
          "metadata": {
            "needs_background": "light"
          }
        }
      ]
    },
    {
      "cell_type": "code",
      "source": [
        "image_for_inference = Image.open('/content/drive/MyDrive/upside_down/Images/upside_face.jpg')\n",
        "# image_for_inference = image_for_inference.resize((32,32))\n",
        "plt.imshow(image_for_inference)\n",
        "image_for_inference = inferece_transform_visual(image_for_inference)\n",
        "model.eval()\n",
        "output = model(image_for_inference.float().unsqueeze(0).to(params[\"device\"], non_blocking=True))\n",
        "predictions = (torch.sigmoid(output) >= 0.5)[:, 0].cpu().numpy()\n",
        "print(output)\n",
        "print(predictions)"
      ],
      "metadata": {
        "id": "mcvTF1147cjt",
        "colab": {
          "base_uri": "https://localhost:8080/",
          "height": 305
        },
        "outputId": "f7f38445-36cf-4049-b0f9-200519e12894"
      },
      "execution_count": null,
      "outputs": [
        {
          "output_type": "stream",
          "name": "stdout",
          "text": [
            "tensor([[4.4833]], device='cuda:0', grad_fn=<AddmmBackward0>)\n",
            "[ True]\n"
          ]
        },
        {
          "output_type": "display_data",
          "data": {
            "text/plain": [
              "<Figure size 432x288 with 1 Axes>"
            ],
            "image/png": "[encoded data removed]"
          },
          "metadata": {
            "needs_background": "light"
          }
        }
      ]
    },
    {
      "cell_type": "code",
      "source": [
        ""
      ],
      "metadata": {
        "id": "wzM8B_LoXR64"
      },
      "execution_count": null,
      "outputs": []
    },
    {
      "cell_type": "code",
      "source": [
        ""
      ],
      "metadata": {
        "id": "Q1TFTP-WdgyS"
      },
      "execution_count": null,
      "outputs": []
    }
  ]
}